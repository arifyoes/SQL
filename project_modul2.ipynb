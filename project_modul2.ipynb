{
 "cells": [
  {
   "cell_type": "markdown",
   "metadata": {},
   "source": [
    "# **DATA UNDERSTANDING**"
   ]
  },
  {
   "cell_type": "markdown",
   "metadata": {},
   "source": [
    "## **Context**\n",
    "\n",
    "\n",
    "Sebuah supplier bergerak di bidang jual-beli bahan makanan ingin mengetahui gambaran umum tentang bisnis yang sedang mereka jalankan. Terdapat sebuah database yang menunjukan detail dari proses transaksi. Dari database tersebut, supplier ingin bisa mendapatkan insight yang dapat dijalankan, sehingga nantinya mereka dapat melakukan penerapan strategi yang tepat sasaran untuk memperoleh keuntungan yang lebih dari saat ini.\n",
    "\n",
    "## **Database Information**\n",
    "Database yang dimiliki mempunyai 13 tabel, yaitu:\n",
    "- supplier                   : Menyimpan informasi tentang data supplier/penjual.\n",
    "- product                    : Menyimpan informasi tentang data jenis produk/bahan makanan.\n",
    "- OrderDetails               : Menyimpan detail dari setiap pesanan yang dilakukan oleh pelanggan.\n",
    "- Orders                     : Menyimpan informasi jual-beli yang dilakukan oleh pelanggan.\n",
    "- Employees                  : Menyimpan semua informasi karyawan serta struktur organisasi, seperti siapa melapor kepada siapa.\n",
    "- Employees terrietories     : \n",
    "- Customers                  : Menyimpan informasi tentang data pelanggan/customer.\n",
    "- CustomersDemographicc      : Menyimpan informasi tentang data\n",
    "- CustomersCustomerDemo      : Menyimpan informasi tentang data\n",
    "- terrietories               : Menyimpan informasi tentang data\n",
    "- Categories                 : Menyimpan informasi tentang data\n",
    "- Shippers                   : Menyimpan informasi tentang data \n",
    "- region                     : Menyimpan informasi tentang data\n",
    "\n",
    "Setiap tabel yang tertera pada database dapat terhubung, baik secara langsung maupun tidak langsung, sehingga setiap informasi dari database ini akan dapat saling berkaitan.\n"
   ]
  },
  {
   "cell_type": "markdown",
   "metadata": {},
   "source": []
  },
  {
   "cell_type": "markdown",
   "metadata": {},
   "source": [
    "# **DATABASE**"
   ]
  },
  {
   "cell_type": "markdown",
   "metadata": {},
   "source": [
    "## **Connecting To Database**\n",
    "\n",
    "Bagian ini merupakan langkah awal untuk mulai melakukan proses analisis data. Pertama adalah membuat koneksi ke database di mana seperti yang sudah dijelaskan sebelumnya, database yang akan digunakan adalah database ``Northwind yang berfokus pada data supplier``. Dengan melakukan koneksi ini, kita dapat mengakses seluruh tabel yang ada pada database."
   ]
  },
  {
   "cell_type": "code",
   "execution_count": 65,
   "metadata": {},
   "outputs": [],
   "source": [
    "import pandas as pd\n",
    "import numpy as np\n",
    "import mysql.connector as sqlcon"
   ]
  },
  {
   "cell_type": "code",
   "execution_count": 66,
   "metadata": {},
   "outputs": [],
   "source": [
    "mydb = sqlcon.connect(\n",
    "    host = 'localhost',\n",
    "    user = 'root',\n",
    "    passwd = 'tengah13',\n",
    "    database = 'northwind'\n",
    ")"
   ]
  },
  {
   "cell_type": "markdown",
   "metadata": {},
   "source": [
    "Selain melakukan koneksi ke database, hal lain yang perlu dilakukan pada bagian awal ini adalah membuat sebuah fungsi untuk menuliskan ``query`` yang kemudian akan disimpan dalam bentuk DataFrame. Tujuannya adalah agar data hasil ``query`` yang dibuat dapat disimpan dan digunakan untuk keperluan analisis data. Nantinya, di sini terdapat 2 query untuk mengambil data-data yang ada di database, bukan hanya berasal dari 1 tabel, tapi juga akan melibatkan hubungan antar tabel."
   ]
  },
  {
   "cell_type": "code",
   "execution_count": 67,
   "metadata": {},
   "outputs": [],
   "source": [
    "curs = mydb.cursor()\n",
    "\n",
    "def sql_table (query) :\n",
    "    curs.execute (query)\n",
    "    result = curs.fetchall()\n",
    "    tabel1 = pd.DataFrame(result, columns=curs.column_names)\n",
    "    return tabel1"
   ]
  },
  {
   "cell_type": "markdown",
   "metadata": {},
   "source": [
    "## **Data Detail Supplier**\n",
    "\n",
    " Data pertama ini merupakan data utama yang nantinya akan dianalisa lebih lanjut. Data ini merupakan gabungan dari 4 tabel, yaitu tabel ```Suppliers```, ```Products```, ```OrderDetails```, dan ```Orders```. Masing-masing dari setiap tabel tersebut diambil beberapa kolomnya dan tidak diambil secara keseluruhan. Informasi-informasi yang dianggap penting saja lah yang diambil. Informasi yang diambil antara lain adalah :\n",
    "\n",
    " - SupplierID       dari tabel Suppliers\n",
    " - CompanyName      dari tabel Suppliers\n",
    " - Address          dari tabel Suppliers\n",
    " - City             dari tabel Suppliers\n",
    " - Region           dari tabel Suppliers\n",
    " - Country          dari tabel Suppliers\n",
    " - p.ProductName    dari tabel Products\n",
    " - CategoryID       dari tabel Products\n",
    " - QuantityPerUnit  dari tabel Products\n",
    " - UnitsInStock     dari tabel Products\n",
    " - UnitsOnOrder     dari tabel Products\n",
    " - UnitPrice        dari tabel OrderDetails\n",
    " - Quantity         dari tabel OrderDetails\n",
    " - Discount         dari tabel OrderDetails\n",
    " - ShipCity         dari tabel Order\n",
    " - ShipRegion       dari tabel Order\n",
    " - OrderID          dari tabel Order\n",
    " - OrderDate        dari tabel Order\n",
    " - ShippedDate      dari tabel Order\n",
    " - RequiredDate     dari tabel Order\n",
    "\n",
    " Selain dari tabel, terdapat sebuah kolom juga yang dinamakan sellpricw yang merupakan selisih antara harga perunit dan discount; juga terdapat kolom yang bernama restStock yang merupakan hasil pengurangan antara quantityInStock dan quantity. \n",
    "\n",
    "Semua informasi tersebut kemudian dijadikan dalam sebuah DataFrame yang nantinya akan diolah informasinya.\n",
    " "
   ]
  },
  {
   "cell_type": "code",
   "execution_count": 68,
   "metadata": {},
   "outputs": [
    {
     "data": {
      "text/html": [
       "<div>\n",
       "<style scoped>\n",
       "    .dataframe tbody tr th:only-of-type {\n",
       "        vertical-align: middle;\n",
       "    }\n",
       "\n",
       "    .dataframe tbody tr th {\n",
       "        vertical-align: top;\n",
       "    }\n",
       "\n",
       "    .dataframe thead th {\n",
       "        text-align: right;\n",
       "    }\n",
       "</style>\n",
       "<table border=\"1\" class=\"dataframe\">\n",
       "  <thead>\n",
       "    <tr style=\"text-align: right;\">\n",
       "      <th></th>\n",
       "      <th>SupplierID</th>\n",
       "      <th>CompanyName</th>\n",
       "      <th>Address</th>\n",
       "      <th>City</th>\n",
       "      <th>Region</th>\n",
       "      <th>Country</th>\n",
       "      <th>ProductName</th>\n",
       "      <th>CategoryID</th>\n",
       "      <th>QuantityPerUnit</th>\n",
       "      <th>UnitsInStock</th>\n",
       "      <th>...</th>\n",
       "      <th>Quantity</th>\n",
       "      <th>Discount</th>\n",
       "      <th>ShipCity</th>\n",
       "      <th>ShipRegion</th>\n",
       "      <th>OrderID</th>\n",
       "      <th>OrderDate</th>\n",
       "      <th>ShippedDate</th>\n",
       "      <th>RequiredDate</th>\n",
       "      <th>sellPrice</th>\n",
       "      <th>restStock</th>\n",
       "    </tr>\n",
       "  </thead>\n",
       "  <tbody>\n",
       "    <tr>\n",
       "      <th>0</th>\n",
       "      <td>1</td>\n",
       "      <td>Exotic Liquids</td>\n",
       "      <td>49 Gilbert St.</td>\n",
       "      <td>London</td>\n",
       "      <td>None</td>\n",
       "      <td>UK</td>\n",
       "      <td>Chai</td>\n",
       "      <td>1</td>\n",
       "      <td>10 boxes x 20 bags</td>\n",
       "      <td>39</td>\n",
       "      <td>...</td>\n",
       "      <td>45</td>\n",
       "      <td>0.0</td>\n",
       "      <td>Cunewalde</td>\n",
       "      <td>None</td>\n",
       "      <td>10285</td>\n",
       "      <td>1996-08-20</td>\n",
       "      <td>1996-08-26</td>\n",
       "      <td>1996-09-17</td>\n",
       "      <td>14.4</td>\n",
       "      <td>45</td>\n",
       "    </tr>\n",
       "    <tr>\n",
       "      <th>1</th>\n",
       "      <td>1</td>\n",
       "      <td>Exotic Liquids</td>\n",
       "      <td>49 Gilbert St.</td>\n",
       "      <td>London</td>\n",
       "      <td>None</td>\n",
       "      <td>UK</td>\n",
       "      <td>Chai</td>\n",
       "      <td>1</td>\n",
       "      <td>10 boxes x 20 bags</td>\n",
       "      <td>39</td>\n",
       "      <td>...</td>\n",
       "      <td>18</td>\n",
       "      <td>0.0</td>\n",
       "      <td>Albuquerque</td>\n",
       "      <td>NM</td>\n",
       "      <td>10294</td>\n",
       "      <td>1996-08-30</td>\n",
       "      <td>1996-09-05</td>\n",
       "      <td>1996-09-27</td>\n",
       "      <td>14.4</td>\n",
       "      <td>18</td>\n",
       "    </tr>\n",
       "    <tr>\n",
       "      <th>2</th>\n",
       "      <td>1</td>\n",
       "      <td>Exotic Liquids</td>\n",
       "      <td>49 Gilbert St.</td>\n",
       "      <td>London</td>\n",
       "      <td>None</td>\n",
       "      <td>UK</td>\n",
       "      <td>Chai</td>\n",
       "      <td>1</td>\n",
       "      <td>10 boxes x 20 bags</td>\n",
       "      <td>39</td>\n",
       "      <td>...</td>\n",
       "      <td>20</td>\n",
       "      <td>0.0</td>\n",
       "      <td>Portland</td>\n",
       "      <td>OR</td>\n",
       "      <td>10317</td>\n",
       "      <td>1996-09-30</td>\n",
       "      <td>1996-10-10</td>\n",
       "      <td>1996-10-28</td>\n",
       "      <td>14.4</td>\n",
       "      <td>20</td>\n",
       "    </tr>\n",
       "    <tr>\n",
       "      <th>3</th>\n",
       "      <td>1</td>\n",
       "      <td>Exotic Liquids</td>\n",
       "      <td>49 Gilbert St.</td>\n",
       "      <td>London</td>\n",
       "      <td>None</td>\n",
       "      <td>UK</td>\n",
       "      <td>Chai</td>\n",
       "      <td>1</td>\n",
       "      <td>10 boxes x 20 bags</td>\n",
       "      <td>39</td>\n",
       "      <td>...</td>\n",
       "      <td>15</td>\n",
       "      <td>0.0</td>\n",
       "      <td>Stuttgart</td>\n",
       "      <td>None</td>\n",
       "      <td>10348</td>\n",
       "      <td>1996-11-07</td>\n",
       "      <td>1996-11-15</td>\n",
       "      <td>1996-12-05</td>\n",
       "      <td>14.4</td>\n",
       "      <td>15</td>\n",
       "    </tr>\n",
       "    <tr>\n",
       "      <th>4</th>\n",
       "      <td>1</td>\n",
       "      <td>Exotic Liquids</td>\n",
       "      <td>49 Gilbert St.</td>\n",
       "      <td>London</td>\n",
       "      <td>None</td>\n",
       "      <td>UK</td>\n",
       "      <td>Chai</td>\n",
       "      <td>1</td>\n",
       "      <td>10 boxes x 20 bags</td>\n",
       "      <td>39</td>\n",
       "      <td>...</td>\n",
       "      <td>12</td>\n",
       "      <td>0.0</td>\n",
       "      <td>Mxico D.F.</td>\n",
       "      <td>None</td>\n",
       "      <td>10354</td>\n",
       "      <td>1996-11-14</td>\n",
       "      <td>1996-11-20</td>\n",
       "      <td>1996-12-12</td>\n",
       "      <td>14.4</td>\n",
       "      <td>12</td>\n",
       "    </tr>\n",
       "  </tbody>\n",
       "</table>\n",
       "<p>5 rows × 22 columns</p>\n",
       "</div>"
      ],
      "text/plain": [
       "   SupplierID     CompanyName         Address    City Region Country  \\\n",
       "0           1  Exotic Liquids  49 Gilbert St.  London   None      UK   \n",
       "1           1  Exotic Liquids  49 Gilbert St.  London   None      UK   \n",
       "2           1  Exotic Liquids  49 Gilbert St.  London   None      UK   \n",
       "3           1  Exotic Liquids  49 Gilbert St.  London   None      UK   \n",
       "4           1  Exotic Liquids  49 Gilbert St.  London   None      UK   \n",
       "\n",
       "  ProductName  CategoryID     QuantityPerUnit  UnitsInStock  ...  Quantity  \\\n",
       "0        Chai           1  10 boxes x 20 bags            39  ...        45   \n",
       "1        Chai           1  10 boxes x 20 bags            39  ...        18   \n",
       "2        Chai           1  10 boxes x 20 bags            39  ...        20   \n",
       "3        Chai           1  10 boxes x 20 bags            39  ...        15   \n",
       "4        Chai           1  10 boxes x 20 bags            39  ...        12   \n",
       "\n",
       "  Discount     ShipCity  ShipRegion OrderID  OrderDate  ShippedDate  \\\n",
       "0      0.0    Cunewalde        None   10285 1996-08-20   1996-08-26   \n",
       "1      0.0  Albuquerque          NM   10294 1996-08-30   1996-09-05   \n",
       "2      0.0     Portland          OR   10317 1996-09-30   1996-10-10   \n",
       "3      0.0    Stuttgart        None   10348 1996-11-07   1996-11-15   \n",
       "4      0.0   Mxico D.F.        None   10354 1996-11-14   1996-11-20   \n",
       "\n",
       "  RequiredDate sellPrice restStock  \n",
       "0   1996-09-17      14.4        45  \n",
       "1   1996-09-27      14.4        18  \n",
       "2   1996-10-28      14.4        20  \n",
       "3   1996-12-05      14.4        15  \n",
       "4   1996-12-12      14.4        12  \n",
       "\n",
       "[5 rows x 22 columns]"
      ]
     },
     "execution_count": 68,
     "metadata": {},
     "output_type": "execute_result"
    }
   ],
   "source": [
    "tabel1 = sql_table (\n",
    "    '''\n",
    "select s.SupplierID, s.CompanyName, s.Address, s.City, s.Region, s.Country,\n",
    "    p.ProductName, p.CategoryID, p.QuantityPerUnit, p.UnitsInStock, p.UnitsOnOrder,\n",
    "    od.UnitPrice, od.Quantity, od.Discount,\n",
    "    o.ShipCity, o.ShipRegion, o.OrderID, o.OrderDate, o.ShippedDate, o.RequiredDate,\n",
    "    round((od.UnitPrice - od.Discount),1) sellPrice, (od.Quantity - p.UnitsOnOrder) restStock\n",
    "from suppliers s\n",
    "left join products p on s.supplierID = p.supplierID\n",
    "left join orderdetails od on p.ProductID = od.ProductID\n",
    "left join orders o on od.OrderID = o.OrderID\n",
    "    '''\n",
    ")\n",
    "tabel1.head()"
   ]
  },
  {
   "cell_type": "markdown",
   "metadata": {},
   "source": [
    "## **Data Jenis Produk, Kuantitas, dan Total Harga Beli**\n",
    "\n",
    "Data yang kedua ini merupakan informasi yang bisa menjadi data tambahan untuk melihat gambaran tentang data yang dimiliki. Data ini memuat jenis produk bahan makanan yang tersedia , lengkap dengan banyaknya jenis produk, kuantitas, serta harga belinya. Dari sini bisa dilihat gambaran apakah kuantitas akan memberikan pengaruh terhadap harga beli. Dari data ini juga bisa dilihat keadaan stock barang, serta bagaimana gambaran jika suatu saat ingin menambah, entah itu jenis produk ataupun kuantitas dengan mempertimbangkan harganya."
   ]
  },
  {
   "cell_type": "code",
   "execution_count": 99,
   "metadata": {},
   "outputs": [
    {
     "data": {
      "text/html": [
       "<div>\n",
       "<style scoped>\n",
       "    .dataframe tbody tr th:only-of-type {\n",
       "        vertical-align: middle;\n",
       "    }\n",
       "\n",
       "    .dataframe tbody tr th {\n",
       "        vertical-align: top;\n",
       "    }\n",
       "\n",
       "    .dataframe thead th {\n",
       "        text-align: right;\n",
       "    }\n",
       "</style>\n",
       "<table border=\"1\" class=\"dataframe\">\n",
       "  <thead>\n",
       "    <tr style=\"text-align: right;\">\n",
       "      <th></th>\n",
       "      <th>Nama_Produk</th>\n",
       "      <th>Jenis_Produk</th>\n",
       "      <th>JumlahUnit</th>\n",
       "      <th>HargaPerunit</th>\n",
       "    </tr>\n",
       "  </thead>\n",
       "  <tbody>\n",
       "    <tr>\n",
       "      <th>0</th>\n",
       "      <td>Alice Mutton</td>\n",
       "      <td>1</td>\n",
       "      <td>0</td>\n",
       "      <td>39.0000</td>\n",
       "    </tr>\n",
       "    <tr>\n",
       "      <th>1</th>\n",
       "      <td>Aniseed Syrup</td>\n",
       "      <td>1</td>\n",
       "      <td>13</td>\n",
       "      <td>10.0000</td>\n",
       "    </tr>\n",
       "    <tr>\n",
       "      <th>2</th>\n",
       "      <td>Boston Crab Meat</td>\n",
       "      <td>1</td>\n",
       "      <td>123</td>\n",
       "      <td>18.4000</td>\n",
       "    </tr>\n",
       "    <tr>\n",
       "      <th>3</th>\n",
       "      <td>Camembert Pierrot</td>\n",
       "      <td>1</td>\n",
       "      <td>19</td>\n",
       "      <td>34.0000</td>\n",
       "    </tr>\n",
       "    <tr>\n",
       "      <th>4</th>\n",
       "      <td>Carnarvon Tigers</td>\n",
       "      <td>1</td>\n",
       "      <td>42</td>\n",
       "      <td>62.5000</td>\n",
       "    </tr>\n",
       "  </tbody>\n",
       "</table>\n",
       "</div>"
      ],
      "text/plain": [
       "         Nama_Produk  Jenis_Produk JumlahUnit HargaPerunit\n",
       "0       Alice Mutton             1          0      39.0000\n",
       "1      Aniseed Syrup             1         13      10.0000\n",
       "2   Boston Crab Meat             1        123      18.4000\n",
       "3  Camembert Pierrot             1         19      34.0000\n",
       "4   Carnarvon Tigers             1         42      62.5000"
      ]
     },
     "execution_count": 99,
     "metadata": {},
     "output_type": "execute_result"
    }
   ],
   "source": [
    "# Query 2 (Aggregating)\n",
    "\n",
    "tabel2 = sql_table(\n",
    "    '''\n",
    "select \n",
    "\tProductName Nama_Produk, \n",
    "    count(ProductName) Jenis_Produk, \n",
    "    sum(UnitsInStock) JumlahUnit, sum(UnitPrice) HargaPerunit\n",
    "from products\n",
    "group by ProductName\n",
    "order by jenis_Produk;\n",
    "    '''\n",
    ")\n",
    "\n",
    "tabel2.head()"
   ]
  },
  {
   "cell_type": "markdown",
   "metadata": {},
   "source": [
    "## **CTE / Window Function**\n",
    "Dikarenakan ada data yang tidak digunakan karena nilainya 0 yaitu ``UnitsOnOrder`` dan ``Discount`` maka colomnya saya hapus"
   ]
  },
  {
   "cell_type": "code",
   "execution_count": 70,
   "metadata": {},
   "outputs": [],
   "source": [
    "# Query 3 (CTE / Window Function)\n",
    "tabel1.drop(['UnitsOnOrder', 'Discount'], axis=1, inplace = True)\n"
   ]
  },
  {
   "cell_type": "code",
   "execution_count": 71,
   "metadata": {},
   "outputs": [
    {
     "data": {
      "text/html": [
       "<div>\n",
       "<style scoped>\n",
       "    .dataframe tbody tr th:only-of-type {\n",
       "        vertical-align: middle;\n",
       "    }\n",
       "\n",
       "    .dataframe tbody tr th {\n",
       "        vertical-align: top;\n",
       "    }\n",
       "\n",
       "    .dataframe thead th {\n",
       "        text-align: right;\n",
       "    }\n",
       "</style>\n",
       "<table border=\"1\" class=\"dataframe\">\n",
       "  <thead>\n",
       "    <tr style=\"text-align: right;\">\n",
       "      <th></th>\n",
       "      <th>SupplierID</th>\n",
       "      <th>CompanyName</th>\n",
       "      <th>Address</th>\n",
       "      <th>City</th>\n",
       "      <th>Region</th>\n",
       "      <th>Country</th>\n",
       "      <th>ProductName</th>\n",
       "      <th>CategoryID</th>\n",
       "      <th>QuantityPerUnit</th>\n",
       "      <th>UnitsInStock</th>\n",
       "      <th>UnitPrice</th>\n",
       "      <th>Quantity</th>\n",
       "      <th>ShipCity</th>\n",
       "      <th>ShipRegion</th>\n",
       "      <th>OrderID</th>\n",
       "      <th>OrderDate</th>\n",
       "      <th>ShippedDate</th>\n",
       "      <th>RequiredDate</th>\n",
       "      <th>sellPrice</th>\n",
       "      <th>restStock</th>\n",
       "    </tr>\n",
       "  </thead>\n",
       "  <tbody>\n",
       "    <tr>\n",
       "      <th>0</th>\n",
       "      <td>1</td>\n",
       "      <td>Exotic Liquids</td>\n",
       "      <td>49 Gilbert St.</td>\n",
       "      <td>London</td>\n",
       "      <td>None</td>\n",
       "      <td>UK</td>\n",
       "      <td>Chai</td>\n",
       "      <td>1</td>\n",
       "      <td>10 boxes x 20 bags</td>\n",
       "      <td>39</td>\n",
       "      <td>14.4000</td>\n",
       "      <td>45</td>\n",
       "      <td>Cunewalde</td>\n",
       "      <td>None</td>\n",
       "      <td>10285</td>\n",
       "      <td>1996-08-20</td>\n",
       "      <td>1996-08-26</td>\n",
       "      <td>1996-09-17</td>\n",
       "      <td>14.4</td>\n",
       "      <td>45</td>\n",
       "    </tr>\n",
       "    <tr>\n",
       "      <th>1</th>\n",
       "      <td>1</td>\n",
       "      <td>Exotic Liquids</td>\n",
       "      <td>49 Gilbert St.</td>\n",
       "      <td>London</td>\n",
       "      <td>None</td>\n",
       "      <td>UK</td>\n",
       "      <td>Chai</td>\n",
       "      <td>1</td>\n",
       "      <td>10 boxes x 20 bags</td>\n",
       "      <td>39</td>\n",
       "      <td>14.4000</td>\n",
       "      <td>18</td>\n",
       "      <td>Albuquerque</td>\n",
       "      <td>NM</td>\n",
       "      <td>10294</td>\n",
       "      <td>1996-08-30</td>\n",
       "      <td>1996-09-05</td>\n",
       "      <td>1996-09-27</td>\n",
       "      <td>14.4</td>\n",
       "      <td>18</td>\n",
       "    </tr>\n",
       "    <tr>\n",
       "      <th>2</th>\n",
       "      <td>1</td>\n",
       "      <td>Exotic Liquids</td>\n",
       "      <td>49 Gilbert St.</td>\n",
       "      <td>London</td>\n",
       "      <td>None</td>\n",
       "      <td>UK</td>\n",
       "      <td>Chai</td>\n",
       "      <td>1</td>\n",
       "      <td>10 boxes x 20 bags</td>\n",
       "      <td>39</td>\n",
       "      <td>14.4000</td>\n",
       "      <td>20</td>\n",
       "      <td>Portland</td>\n",
       "      <td>OR</td>\n",
       "      <td>10317</td>\n",
       "      <td>1996-09-30</td>\n",
       "      <td>1996-10-10</td>\n",
       "      <td>1996-10-28</td>\n",
       "      <td>14.4</td>\n",
       "      <td>20</td>\n",
       "    </tr>\n",
       "    <tr>\n",
       "      <th>3</th>\n",
       "      <td>1</td>\n",
       "      <td>Exotic Liquids</td>\n",
       "      <td>49 Gilbert St.</td>\n",
       "      <td>London</td>\n",
       "      <td>None</td>\n",
       "      <td>UK</td>\n",
       "      <td>Chai</td>\n",
       "      <td>1</td>\n",
       "      <td>10 boxes x 20 bags</td>\n",
       "      <td>39</td>\n",
       "      <td>14.4000</td>\n",
       "      <td>15</td>\n",
       "      <td>Stuttgart</td>\n",
       "      <td>None</td>\n",
       "      <td>10348</td>\n",
       "      <td>1996-11-07</td>\n",
       "      <td>1996-11-15</td>\n",
       "      <td>1996-12-05</td>\n",
       "      <td>14.4</td>\n",
       "      <td>15</td>\n",
       "    </tr>\n",
       "    <tr>\n",
       "      <th>4</th>\n",
       "      <td>1</td>\n",
       "      <td>Exotic Liquids</td>\n",
       "      <td>49 Gilbert St.</td>\n",
       "      <td>London</td>\n",
       "      <td>None</td>\n",
       "      <td>UK</td>\n",
       "      <td>Chai</td>\n",
       "      <td>1</td>\n",
       "      <td>10 boxes x 20 bags</td>\n",
       "      <td>39</td>\n",
       "      <td>14.4000</td>\n",
       "      <td>12</td>\n",
       "      <td>Mxico D.F.</td>\n",
       "      <td>None</td>\n",
       "      <td>10354</td>\n",
       "      <td>1996-11-14</td>\n",
       "      <td>1996-11-20</td>\n",
       "      <td>1996-12-12</td>\n",
       "      <td>14.4</td>\n",
       "      <td>12</td>\n",
       "    </tr>\n",
       "  </tbody>\n",
       "</table>\n",
       "</div>"
      ],
      "text/plain": [
       "   SupplierID     CompanyName         Address    City Region Country  \\\n",
       "0           1  Exotic Liquids  49 Gilbert St.  London   None      UK   \n",
       "1           1  Exotic Liquids  49 Gilbert St.  London   None      UK   \n",
       "2           1  Exotic Liquids  49 Gilbert St.  London   None      UK   \n",
       "3           1  Exotic Liquids  49 Gilbert St.  London   None      UK   \n",
       "4           1  Exotic Liquids  49 Gilbert St.  London   None      UK   \n",
       "\n",
       "  ProductName  CategoryID     QuantityPerUnit  UnitsInStock UnitPrice  \\\n",
       "0        Chai           1  10 boxes x 20 bags            39   14.4000   \n",
       "1        Chai           1  10 boxes x 20 bags            39   14.4000   \n",
       "2        Chai           1  10 boxes x 20 bags            39   14.4000   \n",
       "3        Chai           1  10 boxes x 20 bags            39   14.4000   \n",
       "4        Chai           1  10 boxes x 20 bags            39   14.4000   \n",
       "\n",
       "   Quantity     ShipCity ShipRegion  OrderID  OrderDate ShippedDate  \\\n",
       "0        45    Cunewalde       None    10285 1996-08-20  1996-08-26   \n",
       "1        18  Albuquerque         NM    10294 1996-08-30  1996-09-05   \n",
       "2        20     Portland         OR    10317 1996-09-30  1996-10-10   \n",
       "3        15    Stuttgart       None    10348 1996-11-07  1996-11-15   \n",
       "4        12   Mxico D.F.       None    10354 1996-11-14  1996-11-20   \n",
       "\n",
       "  RequiredDate  sellPrice  restStock  \n",
       "0   1996-09-17       14.4         45  \n",
       "1   1996-09-27       14.4         18  \n",
       "2   1996-10-28       14.4         20  \n",
       "3   1996-12-05       14.4         15  \n",
       "4   1996-12-12       14.4         12  "
      ]
     },
     "execution_count": 71,
     "metadata": {},
     "output_type": "execute_result"
    }
   ],
   "source": [
    "tabel1.head()"
   ]
  },
  {
   "cell_type": "markdown",
   "metadata": {},
   "source": [
    "# **DATA MANIPULATION**\n",
    "\n",
    "Seperti yang telah dijelaskan sebelumnya, data yang digunakan untuk dianalisis adalah data pada ```tabel1```. Sebelum melakukan analisis lebih lanjut, hal yang harus dilakukan adalah mengecek informasi serta anomali pada data. Jika memang terdapat hal-hal yang dianggap 'kotor' pada data, maka yang perlu dilakukan adalah melakukan penanganan pada bagian tersebut. Pada bagian ini, data akan 'dibersihkan', sehingga output akhir yang diharapkan adalah terdapat sebuah dataset yang bersih yang dapat dianalisis lebih lanjut dengan menampilkan visualisasi, serta melihat statistics-nya."
   ]
  },
  {
   "cell_type": "markdown",
   "metadata": {},
   "source": [
    "## **Data Anomalies**"
   ]
  },
  {
   "cell_type": "markdown",
   "metadata": {},
   "source": [
    "## **Melihat Data Sekilas Dari General Info**\n",
    "\n",
    "Mari sejenak melihat apa yang ditampilkan pada general info yang disajikan di atas. Terlihat bahwa secara keseluruhan terdapat 3020 baris data dengan total 18 kolom. Setiap kolomnya memiliki tipe data yang berbeda-beda. Ada object, integer, dan float. Oke, mari sejenak mengesampingkan tipe data. Mari berforkus pada non-null values atau data yang tersedia pada setiap kolomnya. Jika melihat informasi tersebut, tidak semua kolom atau feature yang memiliki data lengkap. Yang paling terlihat jomplang adalah pada ```region``` dan ```ShipRegion```. Kedua features tersebut kehilangan lebih dari 50% data. selain itu tidak ada kolom lain yang missing value\n",
    "\n",
    "Fokus berikutnya tidak ada, karena datanya sudah bersih hanya missing value di ```region``` dan ```ShipRegion```."
   ]
  },
  {
   "cell_type": "markdown",
   "metadata": {},
   "source": [
    "## **Missing Values**\n",
    "Telah dijelaskan sebelumnya, terdapat beberapa feature yang memang memiliki missing values. Yang paling jadi sorotan adalah ```region``` dan ```ShipRegion``` yang memiliki total missing value yang lebih dari 60%. Artinya, jika missing valuenya dihilangkan dengan melihat row atau barisnya, setengah dari data yang dimiliki akan hilang, yang berarti akan mengakibatkan hilangnya banyak informasi. Tentu saja hal tersebut tidak dibenarkan. Untuk mengatasi hal tersebut, maka kedua feature tersebut akan dihapus dan tidak akan dimasukkan ke dalam data yang akan dianalisis.\n",
    "\n",
    "Sehingga, cara untuk mengatasinya cukup dengan melakukan drop data ```region``` dan ```ShipRegion```"
   ]
  },
  {
   "cell_type": "code",
   "execution_count": 72,
   "metadata": {},
   "outputs": [
    {
     "data": {
      "text/plain": [
       "SupplierID            0\n",
       "CompanyName           0\n",
       "Address               0\n",
       "City                  0\n",
       "Region             1424\n",
       "Country               0\n",
       "ProductName           0\n",
       "CategoryID            0\n",
       "QuantityPerUnit       0\n",
       "UnitsInStock          0\n",
       "UnitPrice             0\n",
       "Quantity              0\n",
       "ShipCity              0\n",
       "ShipRegion         1299\n",
       "OrderID               0\n",
       "OrderDate             0\n",
       "ShippedDate          73\n",
       "RequiredDate          0\n",
       "sellPrice             0\n",
       "restStock             0\n",
       "dtype: int64"
      ]
     },
     "execution_count": 72,
     "metadata": {},
     "output_type": "execute_result"
    }
   ],
   "source": [
    "# Check Missing Value Percentage\n",
    "\n",
    "tabel1.isnull().sum()"
   ]
  },
  {
   "cell_type": "markdown",
   "metadata": {},
   "source": [
    "## **Handling Anomalies**\n",
    "\n",
    "Setelah mengetahui hal-hal yang harus 'dibereskan' terlebih dahulu, maka pada bagian ini, hal-hal tersebut harus diatasi. Pertama, masalah missing value. Sebenarnya pada bagian sebelumnya sudah diberi tahu apa saja yang harus dilakukan untuk mengatasi masalah tersebut. Bagian pertama jelas akan dilakukan drop features ```region``` dan ```ShipRegion```. "
   ]
  },
  {
   "cell_type": "code",
   "execution_count": 73,
   "metadata": {},
   "outputs": [],
   "source": [
    "tabel1.drop(['Region', 'ShipRegion'], axis=1, inplace = True)"
   ]
  },
  {
   "cell_type": "code",
   "execution_count": 74,
   "metadata": {},
   "outputs": [
    {
     "data": {
      "text/plain": [
       "SupplierID          0\n",
       "CompanyName         0\n",
       "Address             0\n",
       "City                0\n",
       "Country             0\n",
       "ProductName         0\n",
       "CategoryID          0\n",
       "QuantityPerUnit     0\n",
       "UnitsInStock        0\n",
       "UnitPrice           0\n",
       "Quantity            0\n",
       "ShipCity            0\n",
       "OrderID             0\n",
       "OrderDate           0\n",
       "ShippedDate        73\n",
       "RequiredDate        0\n",
       "sellPrice           0\n",
       "restStock           0\n",
       "dtype: int64"
      ]
     },
     "execution_count": 74,
     "metadata": {},
     "output_type": "execute_result"
    }
   ],
   "source": [
    "tabel1.isnull().sum()"
   ]
  },
  {
   "cell_type": "code",
   "execution_count": 75,
   "metadata": {},
   "outputs": [],
   "source": [
    "# Remove Missing Value 2\n",
    "\n",
    "tabel1.dropna(inplace = True)"
   ]
  },
  {
   "cell_type": "code",
   "execution_count": 76,
   "metadata": {},
   "outputs": [
    {
     "data": {
      "text/plain": [
       "SupplierID         0\n",
       "CompanyName        0\n",
       "Address            0\n",
       "City               0\n",
       "Country            0\n",
       "ProductName        0\n",
       "CategoryID         0\n",
       "QuantityPerUnit    0\n",
       "UnitsInStock       0\n",
       "UnitPrice          0\n",
       "Quantity           0\n",
       "ShipCity           0\n",
       "OrderID            0\n",
       "OrderDate          0\n",
       "ShippedDate        0\n",
       "RequiredDate       0\n",
       "sellPrice          0\n",
       "restStock          0\n",
       "dtype: int64"
      ]
     },
     "execution_count": 76,
     "metadata": {},
     "output_type": "execute_result"
    }
   ],
   "source": [
    "# Recheck Info\n",
    "\n",
    "tabel1.isnull().sum()"
   ]
  },
  {
   "cell_type": "markdown",
   "metadata": {},
   "source": [
    "## **Recheck Missing Value Information**\n",
    "\n",
    "Setelah melakukan proses drop missing value, baik itu drop terhadap features maupun row, selanjutnya adalah melakukan pengecekan terhadap data yang dimiliki untuk memastikan apakah sudah tidak ada missing value lagi. Benar saja, jika melihat data pada output di atas, sudah tidak terdapat lagi missing value sama sekali, dan pada feature ```region``` dan ```ShipRegion```. sudah tidak ada juga (karena sudah di-drop). Untuk masing-masing feature juga sudah memiliki 0 missing value yang berarti masalah missing value sudah teratasi."
   ]
  },
  {
   "cell_type": "code",
   "execution_count": 77,
   "metadata": {},
   "outputs": [
    {
     "name": "stdout",
     "output_type": "stream",
     "text": [
      "<class 'pandas.core.frame.DataFrame'>\n",
      "Int64Index: 2082 entries, 0 to 2154\n",
      "Data columns (total 18 columns):\n",
      " #   Column           Non-Null Count  Dtype         \n",
      "---  ------           --------------  -----         \n",
      " 0   SupplierID       2082 non-null   int64         \n",
      " 1   CompanyName      2082 non-null   object        \n",
      " 2   Address          2082 non-null   object        \n",
      " 3   City             2082 non-null   object        \n",
      " 4   Country          2082 non-null   object        \n",
      " 5   ProductName      2082 non-null   object        \n",
      " 6   CategoryID       2082 non-null   int64         \n",
      " 7   QuantityPerUnit  2082 non-null   object        \n",
      " 8   UnitsInStock     2082 non-null   int64         \n",
      " 9   UnitPrice        2082 non-null   object        \n",
      " 10  Quantity         2082 non-null   int64         \n",
      " 11  ShipCity         2082 non-null   object        \n",
      " 12  OrderID          2082 non-null   int64         \n",
      " 13  OrderDate        2082 non-null   datetime64[ns]\n",
      " 14  ShippedDate      2082 non-null   datetime64[ns]\n",
      " 15  RequiredDate     2082 non-null   datetime64[ns]\n",
      " 16  sellPrice        2082 non-null   float64       \n",
      " 17  restStock        2082 non-null   int64         \n",
      "dtypes: datetime64[ns](3), float64(1), int64(6), object(8)\n",
      "memory usage: 309.0+ KB\n"
     ]
    }
   ],
   "source": [
    "tabel1.info()"
   ]
  },
  {
   "cell_type": "markdown",
   "metadata": {},
   "source": [
    "## **Feature 'ProcessingDate'**\n",
    "\n",
    "Data awal menunjukan terdapat 2 features yang merupakan tipe data datetime. Artinya, kita dapat melakukan ekstraksi informasi tambahan dari kedua features tersebut. Sebelumnya, kita perlu tahu dulu definisi dari kedua tabel tersebut. RequiredDate secara singkat dapat diartikan sebagai waktu atau kapan barang tersebut dibutuhkan, sedangkat ShippedDate adalah waktu dikirimkannya barang tersebut. \n",
    "\n",
    "Melihat kedua definisi tersebut, sebuah informasi dapat diambil, yakni seberapa lama waktu proses barangnya dari waktu pengiriman hingga dibutuhkan. Oleh karena itu, untuk mendapatkan informasinya, maka perlu dilakukan pengurangan antara requiredDate dan juga shippedDate. Mungkin akan timbul pertanyaan, apakah waktu dapat dikurangkan? Jawabannya, bisa. Output yang keluar nantinya akan berupa selisih atau lamanya waktu proses tersebut dalam satuan hari."
   ]
  },
  {
   "cell_type": "code",
   "execution_count": 78,
   "metadata": {},
   "outputs": [
    {
     "data": {
      "text/html": [
       "<div>\n",
       "<style scoped>\n",
       "    .dataframe tbody tr th:only-of-type {\n",
       "        vertical-align: middle;\n",
       "    }\n",
       "\n",
       "    .dataframe tbody tr th {\n",
       "        vertical-align: top;\n",
       "    }\n",
       "\n",
       "    .dataframe thead th {\n",
       "        text-align: right;\n",
       "    }\n",
       "</style>\n",
       "<table border=\"1\" class=\"dataframe\">\n",
       "  <thead>\n",
       "    <tr style=\"text-align: right;\">\n",
       "      <th></th>\n",
       "      <th>SupplierID</th>\n",
       "      <th>CompanyName</th>\n",
       "      <th>Address</th>\n",
       "      <th>City</th>\n",
       "      <th>Country</th>\n",
       "      <th>ProductName</th>\n",
       "      <th>CategoryID</th>\n",
       "      <th>QuantityPerUnit</th>\n",
       "      <th>UnitsInStock</th>\n",
       "      <th>UnitPrice</th>\n",
       "      <th>Quantity</th>\n",
       "      <th>ShipCity</th>\n",
       "      <th>OrderID</th>\n",
       "      <th>OrderDate</th>\n",
       "      <th>ShippedDate</th>\n",
       "      <th>RequiredDate</th>\n",
       "      <th>sellPrice</th>\n",
       "      <th>restStock</th>\n",
       "      <th>ProcessingDate</th>\n",
       "    </tr>\n",
       "  </thead>\n",
       "  <tbody>\n",
       "    <tr>\n",
       "      <th>787</th>\n",
       "      <td>11</td>\n",
       "      <td>Heli Swaren GmbH &amp; Co. KG</td>\n",
       "      <td>Tiergartenstrae 5</td>\n",
       "      <td>Berlin</td>\n",
       "      <td>Germany</td>\n",
       "      <td>Gumbr Gummibrchen</td>\n",
       "      <td>3</td>\n",
       "      <td>100 - 250 g bags</td>\n",
       "      <td>15</td>\n",
       "      <td>24.9000</td>\n",
       "      <td>2</td>\n",
       "      <td>Torino</td>\n",
       "      <td>10422</td>\n",
       "      <td>1997-01-22</td>\n",
       "      <td>1997-01-31</td>\n",
       "      <td>1997-02-19</td>\n",
       "      <td>24.9</td>\n",
       "      <td>2</td>\n",
       "      <td>19 days</td>\n",
       "    </tr>\n",
       "    <tr>\n",
       "      <th>416</th>\n",
       "      <td>7</td>\n",
       "      <td>Pavlova, Ltd.</td>\n",
       "      <td>74 Rose St.\\r\\nMoonie Ponds</td>\n",
       "      <td>Melbourne</td>\n",
       "      <td>Australia</td>\n",
       "      <td>Pavlova</td>\n",
       "      <td>3</td>\n",
       "      <td>32 - 500 g boxes</td>\n",
       "      <td>29</td>\n",
       "      <td>17.4500</td>\n",
       "      <td>20</td>\n",
       "      <td>Leipzig</td>\n",
       "      <td>10779</td>\n",
       "      <td>1997-12-16</td>\n",
       "      <td>1998-01-14</td>\n",
       "      <td>1998-01-13</td>\n",
       "      <td>17.4</td>\n",
       "      <td>20</td>\n",
       "      <td>-1 days</td>\n",
       "    </tr>\n",
       "    <tr>\n",
       "      <th>2044</th>\n",
       "      <td>28</td>\n",
       "      <td>Gai pturage</td>\n",
       "      <td>Bat. B\\r\\n3, rue des Alpes</td>\n",
       "      <td>Annecy</td>\n",
       "      <td>France</td>\n",
       "      <td>Camembert Pierrot</td>\n",
       "      <td>4</td>\n",
       "      <td>15 - 300 g rounds</td>\n",
       "      <td>19</td>\n",
       "      <td>27.2000</td>\n",
       "      <td>20</td>\n",
       "      <td>Lisboa</td>\n",
       "      <td>10464</td>\n",
       "      <td>1997-03-04</td>\n",
       "      <td>1997-03-14</td>\n",
       "      <td>1997-04-01</td>\n",
       "      <td>27.2</td>\n",
       "      <td>20</td>\n",
       "      <td>18 days</td>\n",
       "    </tr>\n",
       "    <tr>\n",
       "      <th>1361</th>\n",
       "      <td>18</td>\n",
       "      <td>Aux joyeux ecclsiastiques</td>\n",
       "      <td>203, Rue des Francs-Bourgeois</td>\n",
       "      <td>Paris</td>\n",
       "      <td>France</td>\n",
       "      <td>Cte de Blaye</td>\n",
       "      <td>1</td>\n",
       "      <td>12 - 75 cl bottles</td>\n",
       "      <td>17</td>\n",
       "      <td>210.8000</td>\n",
       "      <td>10</td>\n",
       "      <td>Strasbourg</td>\n",
       "      <td>10360</td>\n",
       "      <td>1996-11-22</td>\n",
       "      <td>1996-12-02</td>\n",
       "      <td>1996-12-20</td>\n",
       "      <td>210.8</td>\n",
       "      <td>10</td>\n",
       "      <td>18 days</td>\n",
       "    </tr>\n",
       "    <tr>\n",
       "      <th>1519</th>\n",
       "      <td>20</td>\n",
       "      <td>Leka Trading</td>\n",
       "      <td>471 Serangoon Loop, Suite #402</td>\n",
       "      <td>Singapore</td>\n",
       "      <td>Singapore</td>\n",
       "      <td>Singaporean Hokkien Fried Mee</td>\n",
       "      <td>5</td>\n",
       "      <td>32 - 1 kg pkgs.</td>\n",
       "      <td>26</td>\n",
       "      <td>14.0000</td>\n",
       "      <td>12</td>\n",
       "      <td>Graz</td>\n",
       "      <td>10776</td>\n",
       "      <td>1997-12-15</td>\n",
       "      <td>1997-12-18</td>\n",
       "      <td>1998-01-12</td>\n",
       "      <td>14.0</td>\n",
       "      <td>12</td>\n",
       "      <td>25 days</td>\n",
       "    </tr>\n",
       "  </tbody>\n",
       "</table>\n",
       "</div>"
      ],
      "text/plain": [
       "      SupplierID                CompanyName                         Address  \\\n",
       "787           11  Heli Swaren GmbH & Co. KG               Tiergartenstrae 5   \n",
       "416            7              Pavlova, Ltd.     74 Rose St.\\r\\nMoonie Ponds   \n",
       "2044          28                Gai pturage      Bat. B\\r\\n3, rue des Alpes   \n",
       "1361          18  Aux joyeux ecclsiastiques   203, Rue des Francs-Bourgeois   \n",
       "1519          20               Leka Trading  471 Serangoon Loop, Suite #402   \n",
       "\n",
       "           City    Country                    ProductName  CategoryID  \\\n",
       "787      Berlin    Germany              Gumbr Gummibrchen           3   \n",
       "416   Melbourne  Australia                        Pavlova           3   \n",
       "2044     Annecy     France              Camembert Pierrot           4   \n",
       "1361      Paris     France                   Cte de Blaye           1   \n",
       "1519  Singapore  Singapore  Singaporean Hokkien Fried Mee           5   \n",
       "\n",
       "         QuantityPerUnit  UnitsInStock UnitPrice  Quantity    ShipCity  \\\n",
       "787     100 - 250 g bags            15   24.9000         2      Torino   \n",
       "416     32 - 500 g boxes            29   17.4500        20     Leipzig   \n",
       "2044   15 - 300 g rounds            19   27.2000        20      Lisboa   \n",
       "1361  12 - 75 cl bottles            17  210.8000        10  Strasbourg   \n",
       "1519     32 - 1 kg pkgs.            26   14.0000        12        Graz   \n",
       "\n",
       "      OrderID  OrderDate ShippedDate RequiredDate  sellPrice  restStock  \\\n",
       "787     10422 1997-01-22  1997-01-31   1997-02-19       24.9          2   \n",
       "416     10779 1997-12-16  1998-01-14   1998-01-13       17.4         20   \n",
       "2044    10464 1997-03-04  1997-03-14   1997-04-01       27.2         20   \n",
       "1361    10360 1996-11-22  1996-12-02   1996-12-20      210.8         10   \n",
       "1519    10776 1997-12-15  1997-12-18   1998-01-12       14.0         12   \n",
       "\n",
       "     ProcessingDate  \n",
       "787         19 days  \n",
       "416         -1 days  \n",
       "2044        18 days  \n",
       "1361        18 days  \n",
       "1519        25 days  "
      ]
     },
     "execution_count": 78,
     "metadata": {},
     "output_type": "execute_result"
    }
   ],
   "source": [
    "# Add New Column (Processing Day)\n",
    "\n",
    "tabel1['ProcessingDate'] = tabel1['RequiredDate'] - tabel1['ShippedDate']\n",
    "tabel1.sample(5)"
   ]
  },
  {
   "cell_type": "markdown",
   "metadata": {},
   "source": [
    "## **Unique Value 'ProcessingDate'**\n",
    "\n",
    "Oke, setelah membuat sebuah kolom baru yang bernama ProcessingDate sebagaimana yang sudah didefinisikan sebelumnya, mari kita cek bagaimana data tersebut. Jika melihat dari preview output sebelumnya, tidak ada keanehan. Lantas bagaimana jika kita melihat lebih dalam ke dalam feature baru ini? Berikut ini penampakan hasil yang memperlihatkan unique values beserta jumlah data di setiap unique values-nya."
   ]
  },
  {
   "cell_type": "code",
   "execution_count": 79,
   "metadata": {},
   "outputs": [
    {
     "data": {
      "text/plain": [
       "21 days     227\n",
       "22 days     191\n",
       "23 days     165\n",
       "25 days     160\n",
       "19 days     159\n",
       "24 days     158\n",
       "26 days     145\n",
       "20 days     139\n",
       "18 days      98\n",
       "16 days      39\n",
       "7 days       37\n",
       "10 days      37\n",
       "27 days      35\n",
       "17 days      34\n",
       "5 days       31\n",
       "36 days      31\n",
       "8 days       30\n",
       "4 days       27\n",
       "9 days       24\n",
       "35 days      23\n",
       "34 days      23\n",
       "11 days      22\n",
       "6 days       21\n",
       "-1 days      20\n",
       "13 days      18\n",
       "-7 days      16\n",
       "39 days      16\n",
       "-6 days      15\n",
       "32 days      15\n",
       "15 days      15\n",
       "3 days       11\n",
       "0 days       10\n",
       "-4 days       8\n",
       "14 days       8\n",
       "-5 days       6\n",
       "33 days       6\n",
       "-2 days       6\n",
       "1 days        6\n",
       "30 days       6\n",
       "37 days       5\n",
       "-16 days      5\n",
       "12 days       5\n",
       "2 days        5\n",
       "-18 days      4\n",
       "-9 days       4\n",
       "41 days       3\n",
       "38 days       3\n",
       "-8 days       2\n",
       "-11 days      2\n",
       "-3 days       2\n",
       "28 days       2\n",
       "-23 days      1\n",
       "-17 days      1\n",
       "Name: ProcessingDate, dtype: int64"
      ]
     },
     "execution_count": 79,
     "metadata": {},
     "output_type": "execute_result"
    }
   ],
   "source": [
    "# Check Data Anomalies in Date Time Fomrat\n",
    "tabel1['ProcessingDate'].value_counts()"
   ]
  },
  {
   "cell_type": "markdown",
   "metadata": {},
   "source": [
    "## **Anomali Pada Processing Date**\n",
    "\n",
    "Melihat output unique values beserta dengan banyaknya data di setiap unique values tersebut, apakah terlihat sesuatu yang aneh? Yap benar, terdapat sebuah waktu yang menunjukan nilai minus, -1 days terdapat 20 data di dalamnya, -3 Days terdapat 2 data di dalamnya, -23 Days terdapat 1 data di dalamnya, -17 Days terdapat 1 data di dalamnya. Ada apa? Sebenarnya ada 2 asumsi yang bisa diambil. Asumsi pertama adalah murni kesalahan input saat memasukan ke dalam database, atau asumsi yang kedua adalah pengirimannya mengalami keterlambatan. \n",
    "\n",
    "Untuk asumsi yang pertama, cara mengatasinya cukup dengan drop 18 data yang salah input. Dengan kata lain, kita menganggap bahwa data tersebut 'salah' dan dapat dibuang (karena jumlahnya yang tidak banyak). Untuk asumsi kedua, data ini bisa saja dipertahankan dan bisa dilakukan analisis lebih lanjut untuk mengetahui letak permasalahannya.\n",
    "\n",
    "Di sini, asumsi yang akan digunakan adalah asumsi yang kedua, yaitu kita akan mengasumsikan terdapat keterlambatan dalam pengiriman. Nantinya, kita akan coba melakukan analisis untuk data ini."
   ]
  },
  {
   "cell_type": "code",
   "execution_count": 80,
   "metadata": {},
   "outputs": [
    {
     "data": {
      "text/html": [
       "<div>\n",
       "<style scoped>\n",
       "    .dataframe tbody tr th:only-of-type {\n",
       "        vertical-align: middle;\n",
       "    }\n",
       "\n",
       "    .dataframe tbody tr th {\n",
       "        vertical-align: top;\n",
       "    }\n",
       "\n",
       "    .dataframe thead th {\n",
       "        text-align: right;\n",
       "    }\n",
       "</style>\n",
       "<table border=\"1\" class=\"dataframe\">\n",
       "  <thead>\n",
       "    <tr style=\"text-align: right;\">\n",
       "      <th></th>\n",
       "      <th>SupplierID</th>\n",
       "      <th>CompanyName</th>\n",
       "      <th>Address</th>\n",
       "      <th>City</th>\n",
       "      <th>Country</th>\n",
       "      <th>ProductName</th>\n",
       "      <th>CategoryID</th>\n",
       "      <th>QuantityPerUnit</th>\n",
       "      <th>UnitsInStock</th>\n",
       "      <th>UnitPrice</th>\n",
       "      <th>Quantity</th>\n",
       "      <th>ShipCity</th>\n",
       "      <th>OrderID</th>\n",
       "      <th>OrderDate</th>\n",
       "      <th>ShippedDate</th>\n",
       "      <th>RequiredDate</th>\n",
       "      <th>sellPrice</th>\n",
       "      <th>restStock</th>\n",
       "      <th>ProcessingDate</th>\n",
       "    </tr>\n",
       "  </thead>\n",
       "  <tbody>\n",
       "    <tr>\n",
       "      <th>416</th>\n",
       "      <td>7</td>\n",
       "      <td>Pavlova, Ltd.</td>\n",
       "      <td>74 Rose St.\\r\\nMoonie Ponds</td>\n",
       "      <td>Melbourne</td>\n",
       "      <td>Australia</td>\n",
       "      <td>Pavlova</td>\n",
       "      <td>3</td>\n",
       "      <td>32 - 500 g boxes</td>\n",
       "      <td>29</td>\n",
       "      <td>17.4500</td>\n",
       "      <td>20</td>\n",
       "      <td>Leipzig</td>\n",
       "      <td>10779</td>\n",
       "      <td>1997-12-16</td>\n",
       "      <td>1998-01-14</td>\n",
       "      <td>1998-01-13</td>\n",
       "      <td>17.4</td>\n",
       "      <td>20</td>\n",
       "      <td>-1 days</td>\n",
       "    </tr>\n",
       "    <tr>\n",
       "      <th>435</th>\n",
       "      <td>7</td>\n",
       "      <td>Pavlova, Ltd.</td>\n",
       "      <td>74 Rose St.\\r\\nMoonie Ponds</td>\n",
       "      <td>Melbourne</td>\n",
       "      <td>Australia</td>\n",
       "      <td>Alice Mutton</td>\n",
       "      <td>6</td>\n",
       "      <td>20 - 1 kg tins</td>\n",
       "      <td>0</td>\n",
       "      <td>31.2000</td>\n",
       "      <td>40</td>\n",
       "      <td>Charleroi</td>\n",
       "      <td>10302</td>\n",
       "      <td>1996-09-10</td>\n",
       "      <td>1996-10-09</td>\n",
       "      <td>1996-10-08</td>\n",
       "      <td>31.2</td>\n",
       "      <td>40</td>\n",
       "      <td>-1 days</td>\n",
       "    </tr>\n",
       "    <tr>\n",
       "      <th>444</th>\n",
       "      <td>7</td>\n",
       "      <td>Pavlova, Ltd.</td>\n",
       "      <td>74 Rose St.\\r\\nMoonie Ponds</td>\n",
       "      <td>Melbourne</td>\n",
       "      <td>Australia</td>\n",
       "      <td>Alice Mutton</td>\n",
       "      <td>6</td>\n",
       "      <td>20 - 1 kg tins</td>\n",
       "      <td>0</td>\n",
       "      <td>39.0000</td>\n",
       "      <td>25</td>\n",
       "      <td>London</td>\n",
       "      <td>10523</td>\n",
       "      <td>1997-05-01</td>\n",
       "      <td>1997-05-30</td>\n",
       "      <td>1997-05-29</td>\n",
       "      <td>39.0</td>\n",
       "      <td>25</td>\n",
       "      <td>-1 days</td>\n",
       "    </tr>\n",
       "    <tr>\n",
       "      <th>595</th>\n",
       "      <td>8</td>\n",
       "      <td>Specialty Biscuits, Ltd.</td>\n",
       "      <td>29 King's Way</td>\n",
       "      <td>Manchester</td>\n",
       "      <td>UK</td>\n",
       "      <td>Sir Rodney's Marmalade</td>\n",
       "      <td>3</td>\n",
       "      <td>30 gift boxes</td>\n",
       "      <td>40</td>\n",
       "      <td>81.0000</td>\n",
       "      <td>15</td>\n",
       "      <td>London</td>\n",
       "      <td>10523</td>\n",
       "      <td>1997-05-01</td>\n",
       "      <td>1997-05-30</td>\n",
       "      <td>1997-05-29</td>\n",
       "      <td>81.0</td>\n",
       "      <td>15</td>\n",
       "      <td>-1 days</td>\n",
       "    </tr>\n",
       "    <tr>\n",
       "      <th>715</th>\n",
       "      <td>10</td>\n",
       "      <td>Refrescos Americanas LTDA</td>\n",
       "      <td>Av. das Americanas 12.890</td>\n",
       "      <td>So Paulo</td>\n",
       "      <td>Brazil</td>\n",
       "      <td>Guaran Fantstica</td>\n",
       "      <td>1</td>\n",
       "      <td>12 - 355 ml cans</td>\n",
       "      <td>20</td>\n",
       "      <td>3.6000</td>\n",
       "      <td>12</td>\n",
       "      <td>Lule</td>\n",
       "      <td>10280</td>\n",
       "      <td>1996-08-14</td>\n",
       "      <td>1996-09-12</td>\n",
       "      <td>1996-09-11</td>\n",
       "      <td>3.6</td>\n",
       "      <td>12</td>\n",
       "      <td>-1 days</td>\n",
       "    </tr>\n",
       "    <tr>\n",
       "      <th>823</th>\n",
       "      <td>12</td>\n",
       "      <td>Plutzer Lebensmittelgromrkte AG</td>\n",
       "      <td>Bogenallee 51</td>\n",
       "      <td>Frankfurt</td>\n",
       "      <td>Germany</td>\n",
       "      <td>Rssle Sauerkraut</td>\n",
       "      <td>7</td>\n",
       "      <td>25 - 825 g cans</td>\n",
       "      <td>26</td>\n",
       "      <td>36.4000</td>\n",
       "      <td>28</td>\n",
       "      <td>Charleroi</td>\n",
       "      <td>10302</td>\n",
       "      <td>1996-09-10</td>\n",
       "      <td>1996-10-09</td>\n",
       "      <td>1996-10-08</td>\n",
       "      <td>36.4</td>\n",
       "      <td>28</td>\n",
       "      <td>-1 days</td>\n",
       "    </tr>\n",
       "    <tr>\n",
       "      <th>917</th>\n",
       "      <td>12</td>\n",
       "      <td>Plutzer Lebensmittelgromrkte AG</td>\n",
       "      <td>Bogenallee 51</td>\n",
       "      <td>Frankfurt</td>\n",
       "      <td>Germany</td>\n",
       "      <td>Rhnbru Klosterbier</td>\n",
       "      <td>1</td>\n",
       "      <td>24 - 0.5 l bottles</td>\n",
       "      <td>125</td>\n",
       "      <td>6.2000</td>\n",
       "      <td>30</td>\n",
       "      <td>Lule</td>\n",
       "      <td>10280</td>\n",
       "      <td>1996-08-14</td>\n",
       "      <td>1996-09-12</td>\n",
       "      <td>1996-09-11</td>\n",
       "      <td>6.2</td>\n",
       "      <td>30</td>\n",
       "      <td>-1 days</td>\n",
       "    </tr>\n",
       "    <tr>\n",
       "      <th>1139</th>\n",
       "      <td>15</td>\n",
       "      <td>Norske Meierier</td>\n",
       "      <td>Hatlevegen 5</td>\n",
       "      <td>Sandvika</td>\n",
       "      <td>Norway</td>\n",
       "      <td>Geitost</td>\n",
       "      <td>4</td>\n",
       "      <td>500 g</td>\n",
       "      <td>112</td>\n",
       "      <td>2.0000</td>\n",
       "      <td>24</td>\n",
       "      <td>Lander</td>\n",
       "      <td>10271</td>\n",
       "      <td>1996-08-01</td>\n",
       "      <td>1996-08-30</td>\n",
       "      <td>1996-08-29</td>\n",
       "      <td>2.0</td>\n",
       "      <td>24</td>\n",
       "      <td>-1 days</td>\n",
       "    </tr>\n",
       "    <tr>\n",
       "      <th>1203</th>\n",
       "      <td>15</td>\n",
       "      <td>Norske Meierier</td>\n",
       "      <td>Hatlevegen 5</td>\n",
       "      <td>Sandvika</td>\n",
       "      <td>Norway</td>\n",
       "      <td>Flotemysost</td>\n",
       "      <td>4</td>\n",
       "      <td>10 - 500 g pkgs.</td>\n",
       "      <td>26</td>\n",
       "      <td>17.2000</td>\n",
       "      <td>30</td>\n",
       "      <td>Oulu</td>\n",
       "      <td>10320</td>\n",
       "      <td>1996-10-03</td>\n",
       "      <td>1996-10-18</td>\n",
       "      <td>1996-10-17</td>\n",
       "      <td>17.2</td>\n",
       "      <td>30</td>\n",
       "      <td>-1 days</td>\n",
       "    </tr>\n",
       "    <tr>\n",
       "      <th>1341</th>\n",
       "      <td>17</td>\n",
       "      <td>Svensk Sjfda AB</td>\n",
       "      <td>Brovallavgen 231</td>\n",
       "      <td>Stockholm</td>\n",
       "      <td>Sweden</td>\n",
       "      <td>Gravad lax</td>\n",
       "      <td>8</td>\n",
       "      <td>12 - 500 g pkgs.</td>\n",
       "      <td>11</td>\n",
       "      <td>26.0000</td>\n",
       "      <td>18</td>\n",
       "      <td>London</td>\n",
       "      <td>10523</td>\n",
       "      <td>1997-05-01</td>\n",
       "      <td>1997-05-30</td>\n",
       "      <td>1997-05-29</td>\n",
       "      <td>26.0</td>\n",
       "      <td>-32</td>\n",
       "      <td>-1 days</td>\n",
       "    </tr>\n",
       "    <tr>\n",
       "      <th>1373</th>\n",
       "      <td>18</td>\n",
       "      <td>Aux joyeux ecclsiastiques</td>\n",
       "      <td>203, Rue des Francs-Bourgeois</td>\n",
       "      <td>Paris</td>\n",
       "      <td>France</td>\n",
       "      <td>Cte de Blaye</td>\n",
       "      <td>1</td>\n",
       "      <td>12 - 75 cl bottles</td>\n",
       "      <td>17</td>\n",
       "      <td>263.5000</td>\n",
       "      <td>30</td>\n",
       "      <td>Eugene</td>\n",
       "      <td>10816</td>\n",
       "      <td>1998-01-06</td>\n",
       "      <td>1998-02-04</td>\n",
       "      <td>1998-02-03</td>\n",
       "      <td>263.5</td>\n",
       "      <td>30</td>\n",
       "      <td>-1 days</td>\n",
       "    </tr>\n",
       "    <tr>\n",
       "      <th>1466</th>\n",
       "      <td>19</td>\n",
       "      <td>New England Seafood Cannery</td>\n",
       "      <td>Order Processing Dept.\\r\\n2100 Paul Revere Blvd.</td>\n",
       "      <td>Boston</td>\n",
       "      <td>USA</td>\n",
       "      <td>Jack's New England Clam Chowder</td>\n",
       "      <td>8</td>\n",
       "      <td>12 - 12 oz cans</td>\n",
       "      <td>85</td>\n",
       "      <td>9.6500</td>\n",
       "      <td>6</td>\n",
       "      <td>London</td>\n",
       "      <td>10523</td>\n",
       "      <td>1997-05-01</td>\n",
       "      <td>1997-05-30</td>\n",
       "      <td>1997-05-29</td>\n",
       "      <td>9.6</td>\n",
       "      <td>6</td>\n",
       "      <td>-1 days</td>\n",
       "    </tr>\n",
       "    <tr>\n",
       "      <th>1532</th>\n",
       "      <td>20</td>\n",
       "      <td>Leka Trading</td>\n",
       "      <td>471 Serangoon Loop, Suite #402</td>\n",
       "      <td>Singapore</td>\n",
       "      <td>Singapore</td>\n",
       "      <td>Ipoh Coffee</td>\n",
       "      <td>1</td>\n",
       "      <td>16 - 500 g tins</td>\n",
       "      <td>17</td>\n",
       "      <td>36.8000</td>\n",
       "      <td>12</td>\n",
       "      <td>Charleroi</td>\n",
       "      <td>10302</td>\n",
       "      <td>1996-09-10</td>\n",
       "      <td>1996-10-09</td>\n",
       "      <td>1996-10-08</td>\n",
       "      <td>36.8</td>\n",
       "      <td>2</td>\n",
       "      <td>-1 days</td>\n",
       "    </tr>\n",
       "    <tr>\n",
       "      <th>1706</th>\n",
       "      <td>23</td>\n",
       "      <td>Karkki Oy</td>\n",
       "      <td>Valtakatu 12</td>\n",
       "      <td>Lappeenranta</td>\n",
       "      <td>Finland</td>\n",
       "      <td>Lakkalikri</td>\n",
       "      <td>1</td>\n",
       "      <td>500 ml</td>\n",
       "      <td>57</td>\n",
       "      <td>18.0000</td>\n",
       "      <td>10</td>\n",
       "      <td>Cowes</td>\n",
       "      <td>10749</td>\n",
       "      <td>1997-11-20</td>\n",
       "      <td>1997-12-19</td>\n",
       "      <td>1997-12-18</td>\n",
       "      <td>18.0</td>\n",
       "      <td>10</td>\n",
       "      <td>-1 days</td>\n",
       "    </tr>\n",
       "    <tr>\n",
       "      <th>1855</th>\n",
       "      <td>25</td>\n",
       "      <td>Ma Maison</td>\n",
       "      <td>2960 Rue St. Laurent</td>\n",
       "      <td>Montral</td>\n",
       "      <td>Canada</td>\n",
       "      <td>Pt chinois</td>\n",
       "      <td>6</td>\n",
       "      <td>24 boxes x 2 pies</td>\n",
       "      <td>115</td>\n",
       "      <td>19.2000</td>\n",
       "      <td>20</td>\n",
       "      <td>Lule</td>\n",
       "      <td>10280</td>\n",
       "      <td>1996-08-14</td>\n",
       "      <td>1996-09-12</td>\n",
       "      <td>1996-09-11</td>\n",
       "      <td>19.2</td>\n",
       "      <td>20</td>\n",
       "      <td>-1 days</td>\n",
       "    </tr>\n",
       "    <tr>\n",
       "      <th>1897</th>\n",
       "      <td>26</td>\n",
       "      <td>Pasta Buttini s.r.l.</td>\n",
       "      <td>Via dei Gelsomini, 153</td>\n",
       "      <td>Salerno</td>\n",
       "      <td>Italy</td>\n",
       "      <td>Gnocchi di nonna Alice</td>\n",
       "      <td>5</td>\n",
       "      <td>24 - 250 g pkgs.</td>\n",
       "      <td>21</td>\n",
       "      <td>30.4000</td>\n",
       "      <td>28</td>\n",
       "      <td>Lisboa</td>\n",
       "      <td>10433</td>\n",
       "      <td>1997-02-03</td>\n",
       "      <td>1997-03-04</td>\n",
       "      <td>1997-03-03</td>\n",
       "      <td>30.4</td>\n",
       "      <td>18</td>\n",
       "      <td>-1 days</td>\n",
       "    </tr>\n",
       "    <tr>\n",
       "      <th>1922</th>\n",
       "      <td>26</td>\n",
       "      <td>Pasta Buttini s.r.l.</td>\n",
       "      <td>Via dei Gelsomini, 153</td>\n",
       "      <td>Salerno</td>\n",
       "      <td>Italy</td>\n",
       "      <td>Gnocchi di nonna Alice</td>\n",
       "      <td>5</td>\n",
       "      <td>24 - 250 g pkgs.</td>\n",
       "      <td>21</td>\n",
       "      <td>38.0000</td>\n",
       "      <td>15</td>\n",
       "      <td>Cowes</td>\n",
       "      <td>10749</td>\n",
       "      <td>1997-11-20</td>\n",
       "      <td>1997-12-19</td>\n",
       "      <td>1997-12-18</td>\n",
       "      <td>38.0</td>\n",
       "      <td>5</td>\n",
       "      <td>-1 days</td>\n",
       "    </tr>\n",
       "    <tr>\n",
       "      <th>2013</th>\n",
       "      <td>28</td>\n",
       "      <td>Gai pturage</td>\n",
       "      <td>Bat. B\\r\\n3, rue des Alpes</td>\n",
       "      <td>Annecy</td>\n",
       "      <td>France</td>\n",
       "      <td>Raclette Courdavault</td>\n",
       "      <td>4</td>\n",
       "      <td>5 kg pkg.</td>\n",
       "      <td>79</td>\n",
       "      <td>55.0000</td>\n",
       "      <td>6</td>\n",
       "      <td>Cowes</td>\n",
       "      <td>10749</td>\n",
       "      <td>1997-11-20</td>\n",
       "      <td>1997-12-19</td>\n",
       "      <td>1997-12-18</td>\n",
       "      <td>55.0</td>\n",
       "      <td>6</td>\n",
       "      <td>-1 days</td>\n",
       "    </tr>\n",
       "    <tr>\n",
       "      <th>2137</th>\n",
       "      <td>29</td>\n",
       "      <td>Forts d'rables</td>\n",
       "      <td>148 rue Chasseur</td>\n",
       "      <td>Ste-Hyacinthe</td>\n",
       "      <td>Canada</td>\n",
       "      <td>Tarte au sucre</td>\n",
       "      <td>3</td>\n",
       "      <td>48 pies</td>\n",
       "      <td>17</td>\n",
       "      <td>49.3000</td>\n",
       "      <td>20</td>\n",
       "      <td>Leipzig</td>\n",
       "      <td>10779</td>\n",
       "      <td>1997-12-16</td>\n",
       "      <td>1998-01-14</td>\n",
       "      <td>1998-01-13</td>\n",
       "      <td>49.3</td>\n",
       "      <td>20</td>\n",
       "      <td>-1 days</td>\n",
       "    </tr>\n",
       "    <tr>\n",
       "      <th>2140</th>\n",
       "      <td>29</td>\n",
       "      <td>Forts d'rables</td>\n",
       "      <td>148 rue Chasseur</td>\n",
       "      <td>Ste-Hyacinthe</td>\n",
       "      <td>Canada</td>\n",
       "      <td>Tarte au sucre</td>\n",
       "      <td>3</td>\n",
       "      <td>48 pies</td>\n",
       "      <td>17</td>\n",
       "      <td>49.3000</td>\n",
       "      <td>20</td>\n",
       "      <td>Eugene</td>\n",
       "      <td>10816</td>\n",
       "      <td>1998-01-06</td>\n",
       "      <td>1998-02-04</td>\n",
       "      <td>1998-02-03</td>\n",
       "      <td>49.3</td>\n",
       "      <td>20</td>\n",
       "      <td>-1 days</td>\n",
       "    </tr>\n",
       "  </tbody>\n",
       "</table>\n",
       "</div>"
      ],
      "text/plain": [
       "      SupplierID                      CompanyName  \\\n",
       "416            7                    Pavlova, Ltd.   \n",
       "435            7                    Pavlova, Ltd.   \n",
       "444            7                    Pavlova, Ltd.   \n",
       "595            8         Specialty Biscuits, Ltd.   \n",
       "715           10        Refrescos Americanas LTDA   \n",
       "823           12  Plutzer Lebensmittelgromrkte AG   \n",
       "917           12  Plutzer Lebensmittelgromrkte AG   \n",
       "1139          15                  Norske Meierier   \n",
       "1203          15                  Norske Meierier   \n",
       "1341          17                  Svensk Sjfda AB   \n",
       "1373          18        Aux joyeux ecclsiastiques   \n",
       "1466          19      New England Seafood Cannery   \n",
       "1532          20                     Leka Trading   \n",
       "1706          23                        Karkki Oy   \n",
       "1855          25                        Ma Maison   \n",
       "1897          26             Pasta Buttini s.r.l.   \n",
       "1922          26             Pasta Buttini s.r.l.   \n",
       "2013          28                      Gai pturage   \n",
       "2137          29                   Forts d'rables   \n",
       "2140          29                   Forts d'rables   \n",
       "\n",
       "                                               Address           City  \\\n",
       "416                        74 Rose St.\\r\\nMoonie Ponds      Melbourne   \n",
       "435                        74 Rose St.\\r\\nMoonie Ponds      Melbourne   \n",
       "444                        74 Rose St.\\r\\nMoonie Ponds      Melbourne   \n",
       "595                                      29 King's Way     Manchester   \n",
       "715                          Av. das Americanas 12.890       So Paulo   \n",
       "823                                      Bogenallee 51      Frankfurt   \n",
       "917                                      Bogenallee 51      Frankfurt   \n",
       "1139                                      Hatlevegen 5       Sandvika   \n",
       "1203                                      Hatlevegen 5       Sandvika   \n",
       "1341                                  Brovallavgen 231      Stockholm   \n",
       "1373                     203, Rue des Francs-Bourgeois          Paris   \n",
       "1466  Order Processing Dept.\\r\\n2100 Paul Revere Blvd.         Boston   \n",
       "1532                    471 Serangoon Loop, Suite #402      Singapore   \n",
       "1706                                      Valtakatu 12   Lappeenranta   \n",
       "1855                              2960 Rue St. Laurent        Montral   \n",
       "1897                            Via dei Gelsomini, 153        Salerno   \n",
       "1922                            Via dei Gelsomini, 153        Salerno   \n",
       "2013                        Bat. B\\r\\n3, rue des Alpes         Annecy   \n",
       "2137                                  148 rue Chasseur  Ste-Hyacinthe   \n",
       "2140                                  148 rue Chasseur  Ste-Hyacinthe   \n",
       "\n",
       "        Country                      ProductName  CategoryID  \\\n",
       "416   Australia                          Pavlova           3   \n",
       "435   Australia                     Alice Mutton           6   \n",
       "444   Australia                     Alice Mutton           6   \n",
       "595          UK           Sir Rodney's Marmalade           3   \n",
       "715      Brazil                 Guaran Fantstica           1   \n",
       "823     Germany                 Rssle Sauerkraut           7   \n",
       "917     Germany               Rhnbru Klosterbier           1   \n",
       "1139     Norway                          Geitost           4   \n",
       "1203     Norway                      Flotemysost           4   \n",
       "1341     Sweden                       Gravad lax           8   \n",
       "1373     France                     Cte de Blaye           1   \n",
       "1466        USA  Jack's New England Clam Chowder           8   \n",
       "1532  Singapore                      Ipoh Coffee           1   \n",
       "1706    Finland                       Lakkalikri           1   \n",
       "1855     Canada                       Pt chinois           6   \n",
       "1897      Italy           Gnocchi di nonna Alice           5   \n",
       "1922      Italy           Gnocchi di nonna Alice           5   \n",
       "2013     France             Raclette Courdavault           4   \n",
       "2137     Canada                   Tarte au sucre           3   \n",
       "2140     Canada                   Tarte au sucre           3   \n",
       "\n",
       "         QuantityPerUnit  UnitsInStock UnitPrice  Quantity   ShipCity  \\\n",
       "416     32 - 500 g boxes            29   17.4500        20    Leipzig   \n",
       "435       20 - 1 kg tins             0   31.2000        40  Charleroi   \n",
       "444       20 - 1 kg tins             0   39.0000        25     London   \n",
       "595        30 gift boxes            40   81.0000        15     London   \n",
       "715     12 - 355 ml cans            20    3.6000        12       Lule   \n",
       "823      25 - 825 g cans            26   36.4000        28  Charleroi   \n",
       "917   24 - 0.5 l bottles           125    6.2000        30       Lule   \n",
       "1139               500 g           112    2.0000        24     Lander   \n",
       "1203    10 - 500 g pkgs.            26   17.2000        30       Oulu   \n",
       "1341    12 - 500 g pkgs.            11   26.0000        18     London   \n",
       "1373  12 - 75 cl bottles            17  263.5000        30     Eugene   \n",
       "1466     12 - 12 oz cans            85    9.6500         6     London   \n",
       "1532     16 - 500 g tins            17   36.8000        12  Charleroi   \n",
       "1706              500 ml            57   18.0000        10      Cowes   \n",
       "1855   24 boxes x 2 pies           115   19.2000        20       Lule   \n",
       "1897    24 - 250 g pkgs.            21   30.4000        28     Lisboa   \n",
       "1922    24 - 250 g pkgs.            21   38.0000        15      Cowes   \n",
       "2013           5 kg pkg.            79   55.0000         6      Cowes   \n",
       "2137             48 pies            17   49.3000        20    Leipzig   \n",
       "2140             48 pies            17   49.3000        20     Eugene   \n",
       "\n",
       "      OrderID  OrderDate ShippedDate RequiredDate  sellPrice  restStock  \\\n",
       "416     10779 1997-12-16  1998-01-14   1998-01-13       17.4         20   \n",
       "435     10302 1996-09-10  1996-10-09   1996-10-08       31.2         40   \n",
       "444     10523 1997-05-01  1997-05-30   1997-05-29       39.0         25   \n",
       "595     10523 1997-05-01  1997-05-30   1997-05-29       81.0         15   \n",
       "715     10280 1996-08-14  1996-09-12   1996-09-11        3.6         12   \n",
       "823     10302 1996-09-10  1996-10-09   1996-10-08       36.4         28   \n",
       "917     10280 1996-08-14  1996-09-12   1996-09-11        6.2         30   \n",
       "1139    10271 1996-08-01  1996-08-30   1996-08-29        2.0         24   \n",
       "1203    10320 1996-10-03  1996-10-18   1996-10-17       17.2         30   \n",
       "1341    10523 1997-05-01  1997-05-30   1997-05-29       26.0        -32   \n",
       "1373    10816 1998-01-06  1998-02-04   1998-02-03      263.5         30   \n",
       "1466    10523 1997-05-01  1997-05-30   1997-05-29        9.6          6   \n",
       "1532    10302 1996-09-10  1996-10-09   1996-10-08       36.8          2   \n",
       "1706    10749 1997-11-20  1997-12-19   1997-12-18       18.0         10   \n",
       "1855    10280 1996-08-14  1996-09-12   1996-09-11       19.2         20   \n",
       "1897    10433 1997-02-03  1997-03-04   1997-03-03       30.4         18   \n",
       "1922    10749 1997-11-20  1997-12-19   1997-12-18       38.0          5   \n",
       "2013    10749 1997-11-20  1997-12-19   1997-12-18       55.0          6   \n",
       "2137    10779 1997-12-16  1998-01-14   1998-01-13       49.3         20   \n",
       "2140    10816 1998-01-06  1998-02-04   1998-02-03       49.3         20   \n",
       "\n",
       "     ProcessingDate  \n",
       "416         -1 days  \n",
       "435         -1 days  \n",
       "444         -1 days  \n",
       "595         -1 days  \n",
       "715         -1 days  \n",
       "823         -1 days  \n",
       "917         -1 days  \n",
       "1139        -1 days  \n",
       "1203        -1 days  \n",
       "1341        -1 days  \n",
       "1373        -1 days  \n",
       "1466        -1 days  \n",
       "1532        -1 days  \n",
       "1706        -1 days  \n",
       "1855        -1 days  \n",
       "1897        -1 days  \n",
       "1922        -1 days  \n",
       "2013        -1 days  \n",
       "2137        -1 days  \n",
       "2140        -1 days  "
      ]
     },
     "execution_count": 80,
     "metadata": {},
     "output_type": "execute_result"
    }
   ],
   "source": [
    "# Handling Date Time Format Anomalies (Check Data First)\n",
    "\n",
    "tabel1[tabel1['ProcessingDate'] == '-1 days']"
   ]
  },
  {
   "cell_type": "markdown",
   "metadata": {},
   "source": [
    "## **Preview Cleaned Data**\n",
    "\n",
    "Setelah semua anomalies sudah diselesaikan, artinya data yang dimiliki sudah bersih. Di bawah ini adalah sample data yang dianggap sudah bersih setelah melewati proses-proses sebelumnya."
   ]
  },
  {
   "cell_type": "code",
   "execution_count": 81,
   "metadata": {},
   "outputs": [
    {
     "data": {
      "text/html": [
       "<div>\n",
       "<style scoped>\n",
       "    .dataframe tbody tr th:only-of-type {\n",
       "        vertical-align: middle;\n",
       "    }\n",
       "\n",
       "    .dataframe tbody tr th {\n",
       "        vertical-align: top;\n",
       "    }\n",
       "\n",
       "    .dataframe thead th {\n",
       "        text-align: right;\n",
       "    }\n",
       "</style>\n",
       "<table border=\"1\" class=\"dataframe\">\n",
       "  <thead>\n",
       "    <tr style=\"text-align: right;\">\n",
       "      <th></th>\n",
       "      <th>SupplierID</th>\n",
       "      <th>CompanyName</th>\n",
       "      <th>Address</th>\n",
       "      <th>City</th>\n",
       "      <th>Country</th>\n",
       "      <th>ProductName</th>\n",
       "      <th>CategoryID</th>\n",
       "      <th>QuantityPerUnit</th>\n",
       "      <th>UnitsInStock</th>\n",
       "      <th>UnitPrice</th>\n",
       "      <th>Quantity</th>\n",
       "      <th>ShipCity</th>\n",
       "      <th>OrderID</th>\n",
       "      <th>OrderDate</th>\n",
       "      <th>ShippedDate</th>\n",
       "      <th>RequiredDate</th>\n",
       "      <th>sellPrice</th>\n",
       "      <th>restStock</th>\n",
       "      <th>ProcessingDate</th>\n",
       "    </tr>\n",
       "  </thead>\n",
       "  <tbody>\n",
       "    <tr>\n",
       "      <th>1082</th>\n",
       "      <td>14</td>\n",
       "      <td>Formaggi Fortini s.r.l.</td>\n",
       "      <td>Viale Dante, 75</td>\n",
       "      <td>Ravenna</td>\n",
       "      <td>Italy</td>\n",
       "      <td>Gorgonzola Telino</td>\n",
       "      <td>4</td>\n",
       "      <td>12 - 100 g pkgs</td>\n",
       "      <td>0</td>\n",
       "      <td>12.5000</td>\n",
       "      <td>15</td>\n",
       "      <td>Colchester</td>\n",
       "      <td>11016</td>\n",
       "      <td>1998-04-10</td>\n",
       "      <td>1998-04-13</td>\n",
       "      <td>1998-05-08</td>\n",
       "      <td>12.5</td>\n",
       "      <td>-55</td>\n",
       "      <td>25 days</td>\n",
       "    </tr>\n",
       "    <tr>\n",
       "      <th>2025</th>\n",
       "      <td>28</td>\n",
       "      <td>Gai pturage</td>\n",
       "      <td>Bat. B\\r\\n3, rue des Alpes</td>\n",
       "      <td>Annecy</td>\n",
       "      <td>France</td>\n",
       "      <td>Raclette Courdavault</td>\n",
       "      <td>4</td>\n",
       "      <td>5 kg pkg.</td>\n",
       "      <td>79</td>\n",
       "      <td>55.0000</td>\n",
       "      <td>18</td>\n",
       "      <td>rhus</td>\n",
       "      <td>10994</td>\n",
       "      <td>1998-04-02</td>\n",
       "      <td>1998-04-09</td>\n",
       "      <td>1998-04-16</td>\n",
       "      <td>55.0</td>\n",
       "      <td>18</td>\n",
       "      <td>7 days</td>\n",
       "    </tr>\n",
       "    <tr>\n",
       "      <th>106</th>\n",
       "      <td>2</td>\n",
       "      <td>New Orleans Cajun Delights</td>\n",
       "      <td>P.O. Box 78934</td>\n",
       "      <td>New Orleans</td>\n",
       "      <td>USA</td>\n",
       "      <td>Chef Anton's Cajun Seasoning</td>\n",
       "      <td>2</td>\n",
       "      <td>48 - 6 oz jars</td>\n",
       "      <td>53</td>\n",
       "      <td>22.0000</td>\n",
       "      <td>12</td>\n",
       "      <td>Lule</td>\n",
       "      <td>10654</td>\n",
       "      <td>1997-09-02</td>\n",
       "      <td>1997-09-11</td>\n",
       "      <td>1997-09-30</td>\n",
       "      <td>22.0</td>\n",
       "      <td>12</td>\n",
       "      <td>19 days</td>\n",
       "    </tr>\n",
       "    <tr>\n",
       "      <th>1984</th>\n",
       "      <td>28</td>\n",
       "      <td>Gai pturage</td>\n",
       "      <td>Bat. B\\r\\n3, rue des Alpes</td>\n",
       "      <td>Annecy</td>\n",
       "      <td>France</td>\n",
       "      <td>Raclette Courdavault</td>\n",
       "      <td>4</td>\n",
       "      <td>5 kg pkg.</td>\n",
       "      <td>79</td>\n",
       "      <td>44.0000</td>\n",
       "      <td>40</td>\n",
       "      <td>Boise</td>\n",
       "      <td>10324</td>\n",
       "      <td>1996-10-08</td>\n",
       "      <td>1996-10-10</td>\n",
       "      <td>1996-11-05</td>\n",
       "      <td>44.0</td>\n",
       "      <td>40</td>\n",
       "      <td>26 days</td>\n",
       "    </tr>\n",
       "    <tr>\n",
       "      <th>133</th>\n",
       "      <td>2</td>\n",
       "      <td>New Orleans Cajun Delights</td>\n",
       "      <td>P.O. Box 78934</td>\n",
       "      <td>New Orleans</td>\n",
       "      <td>USA</td>\n",
       "      <td>Louisiana Fiery Hot Pepper Sauce</td>\n",
       "      <td>2</td>\n",
       "      <td>32 - 8 oz bottles</td>\n",
       "      <td>76</td>\n",
       "      <td>16.8000</td>\n",
       "      <td>35</td>\n",
       "      <td>Rio de Janeiro</td>\n",
       "      <td>10447</td>\n",
       "      <td>1997-02-14</td>\n",
       "      <td>1997-03-07</td>\n",
       "      <td>1997-03-14</td>\n",
       "      <td>16.8</td>\n",
       "      <td>35</td>\n",
       "      <td>7 days</td>\n",
       "    </tr>\n",
       "    <tr>\n",
       "      <th>50</th>\n",
       "      <td>1</td>\n",
       "      <td>Exotic Liquids</td>\n",
       "      <td>49 Gilbert St.</td>\n",
       "      <td>London</td>\n",
       "      <td>UK</td>\n",
       "      <td>Chang</td>\n",
       "      <td>1</td>\n",
       "      <td>24 - 12 oz bottles</td>\n",
       "      <td>17</td>\n",
       "      <td>15.2000</td>\n",
       "      <td>20</td>\n",
       "      <td>I. de Margarita</td>\n",
       "      <td>10485</td>\n",
       "      <td>1997-03-25</td>\n",
       "      <td>1997-03-31</td>\n",
       "      <td>1997-04-08</td>\n",
       "      <td>15.2</td>\n",
       "      <td>-20</td>\n",
       "      <td>8 days</td>\n",
       "    </tr>\n",
       "    <tr>\n",
       "      <th>519</th>\n",
       "      <td>7</td>\n",
       "      <td>Pavlova, Ltd.</td>\n",
       "      <td>74 Rose St.\\r\\nMoonie Ponds</td>\n",
       "      <td>Melbourne</td>\n",
       "      <td>Australia</td>\n",
       "      <td>Outback Lager</td>\n",
       "      <td>1</td>\n",
       "      <td>24 - 355 ml bottles</td>\n",
       "      <td>15</td>\n",
       "      <td>12.0000</td>\n",
       "      <td>30</td>\n",
       "      <td>Tsawassen</td>\n",
       "      <td>10389</td>\n",
       "      <td>1996-12-20</td>\n",
       "      <td>1996-12-24</td>\n",
       "      <td>1997-01-17</td>\n",
       "      <td>12.0</td>\n",
       "      <td>20</td>\n",
       "      <td>24 days</td>\n",
       "    </tr>\n",
       "    <tr>\n",
       "      <th>675</th>\n",
       "      <td>8</td>\n",
       "      <td>Specialty Biscuits, Ltd.</td>\n",
       "      <td>29 King's Way</td>\n",
       "      <td>Manchester</td>\n",
       "      <td>UK</td>\n",
       "      <td>Scottish Longbreads</td>\n",
       "      <td>3</td>\n",
       "      <td>10 boxes x 8 pieces</td>\n",
       "      <td>6</td>\n",
       "      <td>12.5000</td>\n",
       "      <td>2</td>\n",
       "      <td>Madrid</td>\n",
       "      <td>11013</td>\n",
       "      <td>1998-04-09</td>\n",
       "      <td>1998-04-10</td>\n",
       "      <td>1998-05-07</td>\n",
       "      <td>12.5</td>\n",
       "      <td>-8</td>\n",
       "      <td>27 days</td>\n",
       "    </tr>\n",
       "    <tr>\n",
       "      <th>560</th>\n",
       "      <td>8</td>\n",
       "      <td>Specialty Biscuits, Ltd.</td>\n",
       "      <td>29 King's Way</td>\n",
       "      <td>Manchester</td>\n",
       "      <td>UK</td>\n",
       "      <td>Teatime Chocolate Biscuits</td>\n",
       "      <td>3</td>\n",
       "      <td>10 boxes x 12 pieces</td>\n",
       "      <td>25</td>\n",
       "      <td>7.3000</td>\n",
       "      <td>15</td>\n",
       "      <td>Mnster</td>\n",
       "      <td>10438</td>\n",
       "      <td>1997-02-06</td>\n",
       "      <td>1997-02-14</td>\n",
       "      <td>1997-03-06</td>\n",
       "      <td>7.3</td>\n",
       "      <td>15</td>\n",
       "      <td>20 days</td>\n",
       "    </tr>\n",
       "    <tr>\n",
       "      <th>176</th>\n",
       "      <td>3</td>\n",
       "      <td>Grandma Kelly's Homestead</td>\n",
       "      <td>707 Oxford Rd.</td>\n",
       "      <td>Ann Arbor</td>\n",
       "      <td>USA</td>\n",
       "      <td>Uncle Bob's Organic Dried Pears</td>\n",
       "      <td>7</td>\n",
       "      <td>12 - 1 lb pkgs.</td>\n",
       "      <td>15</td>\n",
       "      <td>24.0000</td>\n",
       "      <td>15</td>\n",
       "      <td>Albuquerque</td>\n",
       "      <td>10262</td>\n",
       "      <td>1996-07-22</td>\n",
       "      <td>1996-07-25</td>\n",
       "      <td>1996-08-19</td>\n",
       "      <td>24.0</td>\n",
       "      <td>15</td>\n",
       "      <td>25 days</td>\n",
       "    </tr>\n",
       "    <tr>\n",
       "      <th>304</th>\n",
       "      <td>5</td>\n",
       "      <td>Cooperativa de Quesos 'Las Cabras'</td>\n",
       "      <td>Calle del Rosal 4</td>\n",
       "      <td>Oviedo</td>\n",
       "      <td>Spain</td>\n",
       "      <td>Queso Cabrales</td>\n",
       "      <td>4</td>\n",
       "      <td>1 kg pkg.</td>\n",
       "      <td>22</td>\n",
       "      <td>21.0000</td>\n",
       "      <td>15</td>\n",
       "      <td>Rio de Janeiro</td>\n",
       "      <td>10989</td>\n",
       "      <td>1998-03-31</td>\n",
       "      <td>1998-04-02</td>\n",
       "      <td>1998-04-28</td>\n",
       "      <td>21.0</td>\n",
       "      <td>-15</td>\n",
       "      <td>26 days</td>\n",
       "    </tr>\n",
       "    <tr>\n",
       "      <th>1715</th>\n",
       "      <td>23</td>\n",
       "      <td>Karkki Oy</td>\n",
       "      <td>Valtakatu 12</td>\n",
       "      <td>Lappeenranta</td>\n",
       "      <td>Finland</td>\n",
       "      <td>Lakkalikri</td>\n",
       "      <td>1</td>\n",
       "      <td>500 ml</td>\n",
       "      <td>57</td>\n",
       "      <td>18.0000</td>\n",
       "      <td>10</td>\n",
       "      <td>Buenos Aires</td>\n",
       "      <td>10986</td>\n",
       "      <td>1998-03-30</td>\n",
       "      <td>1998-04-21</td>\n",
       "      <td>1998-04-27</td>\n",
       "      <td>18.0</td>\n",
       "      <td>10</td>\n",
       "      <td>6 days</td>\n",
       "    </tr>\n",
       "    <tr>\n",
       "      <th>95</th>\n",
       "      <td>2</td>\n",
       "      <td>New Orleans Cajun Delights</td>\n",
       "      <td>P.O. Box 78934</td>\n",
       "      <td>New Orleans</td>\n",
       "      <td>USA</td>\n",
       "      <td>Chef Anton's Cajun Seasoning</td>\n",
       "      <td>2</td>\n",
       "      <td>48 - 6 oz jars</td>\n",
       "      <td>53</td>\n",
       "      <td>17.6000</td>\n",
       "      <td>24</td>\n",
       "      <td>Madrid</td>\n",
       "      <td>10326</td>\n",
       "      <td>1996-10-10</td>\n",
       "      <td>1996-10-14</td>\n",
       "      <td>1996-11-07</td>\n",
       "      <td>17.6</td>\n",
       "      <td>24</td>\n",
       "      <td>24 days</td>\n",
       "    </tr>\n",
       "    <tr>\n",
       "      <th>1096</th>\n",
       "      <td>14</td>\n",
       "      <td>Formaggi Fortini s.r.l.</td>\n",
       "      <td>Viale Dante, 75</td>\n",
       "      <td>Ravenna</td>\n",
       "      <td>Italy</td>\n",
       "      <td>Mascarpone Fabioli</td>\n",
       "      <td>4</td>\n",
       "      <td>24 - 200 g pkgs.</td>\n",
       "      <td>9</td>\n",
       "      <td>32.0000</td>\n",
       "      <td>15</td>\n",
       "      <td>Stuttgart</td>\n",
       "      <td>11046</td>\n",
       "      <td>1998-04-23</td>\n",
       "      <td>1998-04-24</td>\n",
       "      <td>1998-05-21</td>\n",
       "      <td>32.0</td>\n",
       "      <td>-25</td>\n",
       "      <td>27 days</td>\n",
       "    </tr>\n",
       "    <tr>\n",
       "      <th>641</th>\n",
       "      <td>8</td>\n",
       "      <td>Specialty Biscuits, Ltd.</td>\n",
       "      <td>29 King's Way</td>\n",
       "      <td>Manchester</td>\n",
       "      <td>UK</td>\n",
       "      <td>Sir Rodney's Scones</td>\n",
       "      <td>3</td>\n",
       "      <td>24 pkgs. x 4 pieces</td>\n",
       "      <td>3</td>\n",
       "      <td>10.0000</td>\n",
       "      <td>15</td>\n",
       "      <td>Anchorage</td>\n",
       "      <td>11034</td>\n",
       "      <td>1998-04-20</td>\n",
       "      <td>1998-04-27</td>\n",
       "      <td>1998-06-01</td>\n",
       "      <td>10.0</td>\n",
       "      <td>-25</td>\n",
       "      <td>35 days</td>\n",
       "    </tr>\n",
       "    <tr>\n",
       "      <th>566</th>\n",
       "      <td>8</td>\n",
       "      <td>Specialty Biscuits, Ltd.</td>\n",
       "      <td>29 King's Way</td>\n",
       "      <td>Manchester</td>\n",
       "      <td>UK</td>\n",
       "      <td>Teatime Chocolate Biscuits</td>\n",
       "      <td>3</td>\n",
       "      <td>10 boxes x 12 pieces</td>\n",
       "      <td>25</td>\n",
       "      <td>9.2000</td>\n",
       "      <td>35</td>\n",
       "      <td>Boise</td>\n",
       "      <td>10555</td>\n",
       "      <td>1997-06-02</td>\n",
       "      <td>1997-06-04</td>\n",
       "      <td>1997-06-30</td>\n",
       "      <td>9.2</td>\n",
       "      <td>35</td>\n",
       "      <td>26 days</td>\n",
       "    </tr>\n",
       "    <tr>\n",
       "      <th>1330</th>\n",
       "      <td>17</td>\n",
       "      <td>Svensk Sjfda AB</td>\n",
       "      <td>Brovallavgen 231</td>\n",
       "      <td>Stockholm</td>\n",
       "      <td>Sweden</td>\n",
       "      <td>Inlagd Sill</td>\n",
       "      <td>8</td>\n",
       "      <td>24 - 250 g  jars</td>\n",
       "      <td>112</td>\n",
       "      <td>19.0000</td>\n",
       "      <td>50</td>\n",
       "      <td>I. de Margarita</td>\n",
       "      <td>10838</td>\n",
       "      <td>1998-01-19</td>\n",
       "      <td>1998-01-23</td>\n",
       "      <td>1998-02-16</td>\n",
       "      <td>19.0</td>\n",
       "      <td>50</td>\n",
       "      <td>24 days</td>\n",
       "    </tr>\n",
       "    <tr>\n",
       "      <th>1179</th>\n",
       "      <td>15</td>\n",
       "      <td>Norske Meierier</td>\n",
       "      <td>Hatlevegen 5</td>\n",
       "      <td>Sandvika</td>\n",
       "      <td>Norway</td>\n",
       "      <td>Gudbrandsdalsost</td>\n",
       "      <td>4</td>\n",
       "      <td>10 kg pkg.</td>\n",
       "      <td>26</td>\n",
       "      <td>28.8000</td>\n",
       "      <td>10</td>\n",
       "      <td>Toulouse</td>\n",
       "      <td>10493</td>\n",
       "      <td>1997-04-02</td>\n",
       "      <td>1997-04-10</td>\n",
       "      <td>1997-04-30</td>\n",
       "      <td>28.8</td>\n",
       "      <td>10</td>\n",
       "      <td>20 days</td>\n",
       "    </tr>\n",
       "    <tr>\n",
       "      <th>661</th>\n",
       "      <td>8</td>\n",
       "      <td>Specialty Biscuits, Ltd.</td>\n",
       "      <td>29 King's Way</td>\n",
       "      <td>Manchester</td>\n",
       "      <td>UK</td>\n",
       "      <td>Scottish Longbreads</td>\n",
       "      <td>3</td>\n",
       "      <td>10 boxes x 8 pieces</td>\n",
       "      <td>6</td>\n",
       "      <td>12.5000</td>\n",
       "      <td>18</td>\n",
       "      <td>Rio de Janeiro</td>\n",
       "      <td>10622</td>\n",
       "      <td>1997-08-06</td>\n",
       "      <td>1997-08-11</td>\n",
       "      <td>1997-09-03</td>\n",
       "      <td>12.5</td>\n",
       "      <td>8</td>\n",
       "      <td>23 days</td>\n",
       "    </tr>\n",
       "    <tr>\n",
       "      <th>1309</th>\n",
       "      <td>17</td>\n",
       "      <td>Svensk Sjfda AB</td>\n",
       "      <td>Brovallavgen 231</td>\n",
       "      <td>Stockholm</td>\n",
       "      <td>Sweden</td>\n",
       "      <td>Inlagd Sill</td>\n",
       "      <td>8</td>\n",
       "      <td>24 - 250 g  jars</td>\n",
       "      <td>112</td>\n",
       "      <td>15.2000</td>\n",
       "      <td>40</td>\n",
       "      <td>Cork</td>\n",
       "      <td>10298</td>\n",
       "      <td>1996-09-05</td>\n",
       "      <td>1996-09-11</td>\n",
       "      <td>1996-10-03</td>\n",
       "      <td>15.2</td>\n",
       "      <td>40</td>\n",
       "      <td>22 days</td>\n",
       "    </tr>\n",
       "  </tbody>\n",
       "</table>\n",
       "</div>"
      ],
      "text/plain": [
       "      SupplierID                         CompanyName  \\\n",
       "1082          14             Formaggi Fortini s.r.l.   \n",
       "2025          28                         Gai pturage   \n",
       "106            2          New Orleans Cajun Delights   \n",
       "1984          28                         Gai pturage   \n",
       "133            2          New Orleans Cajun Delights   \n",
       "50             1                      Exotic Liquids   \n",
       "519            7                       Pavlova, Ltd.   \n",
       "675            8            Specialty Biscuits, Ltd.   \n",
       "560            8            Specialty Biscuits, Ltd.   \n",
       "176            3           Grandma Kelly's Homestead   \n",
       "304            5  Cooperativa de Quesos 'Las Cabras'   \n",
       "1715          23                           Karkki Oy   \n",
       "95             2          New Orleans Cajun Delights   \n",
       "1096          14             Formaggi Fortini s.r.l.   \n",
       "641            8            Specialty Biscuits, Ltd.   \n",
       "566            8            Specialty Biscuits, Ltd.   \n",
       "1330          17                     Svensk Sjfda AB   \n",
       "1179          15                     Norske Meierier   \n",
       "661            8            Specialty Biscuits, Ltd.   \n",
       "1309          17                     Svensk Sjfda AB   \n",
       "\n",
       "                          Address          City    Country  \\\n",
       "1082              Viale Dante, 75       Ravenna      Italy   \n",
       "2025   Bat. B\\r\\n3, rue des Alpes        Annecy     France   \n",
       "106                P.O. Box 78934   New Orleans        USA   \n",
       "1984   Bat. B\\r\\n3, rue des Alpes        Annecy     France   \n",
       "133                P.O. Box 78934   New Orleans        USA   \n",
       "50                 49 Gilbert St.        London         UK   \n",
       "519   74 Rose St.\\r\\nMoonie Ponds     Melbourne  Australia   \n",
       "675                 29 King's Way    Manchester         UK   \n",
       "560                 29 King's Way    Manchester         UK   \n",
       "176                707 Oxford Rd.     Ann Arbor        USA   \n",
       "304             Calle del Rosal 4        Oviedo      Spain   \n",
       "1715                 Valtakatu 12  Lappeenranta    Finland   \n",
       "95                 P.O. Box 78934   New Orleans        USA   \n",
       "1096              Viale Dante, 75       Ravenna      Italy   \n",
       "641                 29 King's Way    Manchester         UK   \n",
       "566                 29 King's Way    Manchester         UK   \n",
       "1330             Brovallavgen 231     Stockholm     Sweden   \n",
       "1179                 Hatlevegen 5      Sandvika     Norway   \n",
       "661                 29 King's Way    Manchester         UK   \n",
       "1309             Brovallavgen 231     Stockholm     Sweden   \n",
       "\n",
       "                           ProductName  CategoryID       QuantityPerUnit  \\\n",
       "1082                 Gorgonzola Telino           4       12 - 100 g pkgs   \n",
       "2025              Raclette Courdavault           4             5 kg pkg.   \n",
       "106       Chef Anton's Cajun Seasoning           2        48 - 6 oz jars   \n",
       "1984              Raclette Courdavault           4             5 kg pkg.   \n",
       "133   Louisiana Fiery Hot Pepper Sauce           2     32 - 8 oz bottles   \n",
       "50                               Chang           1    24 - 12 oz bottles   \n",
       "519                      Outback Lager           1   24 - 355 ml bottles   \n",
       "675                Scottish Longbreads           3   10 boxes x 8 pieces   \n",
       "560         Teatime Chocolate Biscuits           3  10 boxes x 12 pieces   \n",
       "176    Uncle Bob's Organic Dried Pears           7       12 - 1 lb pkgs.   \n",
       "304                     Queso Cabrales           4             1 kg pkg.   \n",
       "1715                        Lakkalikri           1                500 ml   \n",
       "95        Chef Anton's Cajun Seasoning           2        48 - 6 oz jars   \n",
       "1096                Mascarpone Fabioli           4      24 - 200 g pkgs.   \n",
       "641                Sir Rodney's Scones           3   24 pkgs. x 4 pieces   \n",
       "566         Teatime Chocolate Biscuits           3  10 boxes x 12 pieces   \n",
       "1330                       Inlagd Sill           8      24 - 250 g  jars   \n",
       "1179                  Gudbrandsdalsost           4            10 kg pkg.   \n",
       "661                Scottish Longbreads           3   10 boxes x 8 pieces   \n",
       "1309                       Inlagd Sill           8      24 - 250 g  jars   \n",
       "\n",
       "      UnitsInStock UnitPrice  Quantity         ShipCity  OrderID  OrderDate  \\\n",
       "1082             0   12.5000        15       Colchester    11016 1998-04-10   \n",
       "2025            79   55.0000        18             rhus    10994 1998-04-02   \n",
       "106             53   22.0000        12             Lule    10654 1997-09-02   \n",
       "1984            79   44.0000        40            Boise    10324 1996-10-08   \n",
       "133             76   16.8000        35   Rio de Janeiro    10447 1997-02-14   \n",
       "50              17   15.2000        20  I. de Margarita    10485 1997-03-25   \n",
       "519             15   12.0000        30        Tsawassen    10389 1996-12-20   \n",
       "675              6   12.5000         2           Madrid    11013 1998-04-09   \n",
       "560             25    7.3000        15           Mnster    10438 1997-02-06   \n",
       "176             15   24.0000        15      Albuquerque    10262 1996-07-22   \n",
       "304             22   21.0000        15   Rio de Janeiro    10989 1998-03-31   \n",
       "1715            57   18.0000        10     Buenos Aires    10986 1998-03-30   \n",
       "95              53   17.6000        24           Madrid    10326 1996-10-10   \n",
       "1096             9   32.0000        15        Stuttgart    11046 1998-04-23   \n",
       "641              3   10.0000        15        Anchorage    11034 1998-04-20   \n",
       "566             25    9.2000        35            Boise    10555 1997-06-02   \n",
       "1330           112   19.0000        50  I. de Margarita    10838 1998-01-19   \n",
       "1179            26   28.8000        10         Toulouse    10493 1997-04-02   \n",
       "661              6   12.5000        18   Rio de Janeiro    10622 1997-08-06   \n",
       "1309           112   15.2000        40             Cork    10298 1996-09-05   \n",
       "\n",
       "     ShippedDate RequiredDate  sellPrice  restStock ProcessingDate  \n",
       "1082  1998-04-13   1998-05-08       12.5        -55        25 days  \n",
       "2025  1998-04-09   1998-04-16       55.0         18         7 days  \n",
       "106   1997-09-11   1997-09-30       22.0         12        19 days  \n",
       "1984  1996-10-10   1996-11-05       44.0         40        26 days  \n",
       "133   1997-03-07   1997-03-14       16.8         35         7 days  \n",
       "50    1997-03-31   1997-04-08       15.2        -20         8 days  \n",
       "519   1996-12-24   1997-01-17       12.0         20        24 days  \n",
       "675   1998-04-10   1998-05-07       12.5         -8        27 days  \n",
       "560   1997-02-14   1997-03-06        7.3         15        20 days  \n",
       "176   1996-07-25   1996-08-19       24.0         15        25 days  \n",
       "304   1998-04-02   1998-04-28       21.0        -15        26 days  \n",
       "1715  1998-04-21   1998-04-27       18.0         10         6 days  \n",
       "95    1996-10-14   1996-11-07       17.6         24        24 days  \n",
       "1096  1998-04-24   1998-05-21       32.0        -25        27 days  \n",
       "641   1998-04-27   1998-06-01       10.0        -25        35 days  \n",
       "566   1997-06-04   1997-06-30        9.2         35        26 days  \n",
       "1330  1998-01-23   1998-02-16       19.0         50        24 days  \n",
       "1179  1997-04-10   1997-04-30       28.8         10        20 days  \n",
       "661   1997-08-11   1997-09-03       12.5          8        23 days  \n",
       "1309  1996-09-11   1996-10-03       15.2         40        22 days  "
      ]
     },
     "execution_count": 81,
     "metadata": {},
     "output_type": "execute_result"
    }
   ],
   "source": [
    "# Clean Data\n",
    "\n",
    "tabel1.sample(20)"
   ]
  },
  {
   "cell_type": "markdown",
   "metadata": {},
   "source": [
    "## **General Info Cleaned Data**"
   ]
  },
  {
   "cell_type": "code",
   "execution_count": 82,
   "metadata": {},
   "outputs": [
    {
     "data": {
      "text/html": [
       "<div>\n",
       "<style scoped>\n",
       "    .dataframe tbody tr th:only-of-type {\n",
       "        vertical-align: middle;\n",
       "    }\n",
       "\n",
       "    .dataframe tbody tr th {\n",
       "        vertical-align: top;\n",
       "    }\n",
       "\n",
       "    .dataframe thead th {\n",
       "        text-align: right;\n",
       "    }\n",
       "</style>\n",
       "<table border=\"1\" class=\"dataframe\">\n",
       "  <thead>\n",
       "    <tr style=\"text-align: right;\">\n",
       "      <th></th>\n",
       "      <th>Column Name</th>\n",
       "      <th>Data Type</th>\n",
       "      <th>Data Count</th>\n",
       "      <th>Missing Value</th>\n",
       "      <th>Missing Value Percentage</th>\n",
       "      <th>Number of Unique</th>\n",
       "      <th>Unique Sample</th>\n",
       "    </tr>\n",
       "  </thead>\n",
       "  <tbody>\n",
       "    <tr>\n",
       "      <th>0</th>\n",
       "      <td>SupplierID</td>\n",
       "      <td>int64</td>\n",
       "      <td>2082</td>\n",
       "      <td>0</td>\n",
       "      <td>0.0</td>\n",
       "      <td>29</td>\n",
       "      <td>[17, 10]</td>\n",
       "    </tr>\n",
       "    <tr>\n",
       "      <th>1</th>\n",
       "      <td>CompanyName</td>\n",
       "      <td>object</td>\n",
       "      <td>2082</td>\n",
       "      <td>0</td>\n",
       "      <td>0.0</td>\n",
       "      <td>29</td>\n",
       "      <td>[Leka Trading, Gai pturage]</td>\n",
       "    </tr>\n",
       "    <tr>\n",
       "      <th>2</th>\n",
       "      <td>Address</td>\n",
       "      <td>object</td>\n",
       "      <td>2082</td>\n",
       "      <td>0</td>\n",
       "      <td>0.0</td>\n",
       "      <td>29</td>\n",
       "      <td>[Viale Dante, 75, 92 Setsuko\\r\\nChuo-ku]</td>\n",
       "    </tr>\n",
       "    <tr>\n",
       "      <th>3</th>\n",
       "      <td>City</td>\n",
       "      <td>object</td>\n",
       "      <td>2082</td>\n",
       "      <td>0</td>\n",
       "      <td>0.0</td>\n",
       "      <td>29</td>\n",
       "      <td>[Montceau, So Paulo]</td>\n",
       "    </tr>\n",
       "    <tr>\n",
       "      <th>4</th>\n",
       "      <td>Country</td>\n",
       "      <td>object</td>\n",
       "      <td>2082</td>\n",
       "      <td>0</td>\n",
       "      <td>0.0</td>\n",
       "      <td>17</td>\n",
       "      <td>[France, Spain]</td>\n",
       "    </tr>\n",
       "    <tr>\n",
       "      <th>5</th>\n",
       "      <td>ProductName</td>\n",
       "      <td>object</td>\n",
       "      <td>2082</td>\n",
       "      <td>0</td>\n",
       "      <td>0.0</td>\n",
       "      <td>77</td>\n",
       "      <td>[Escargots de Bourgogne, Konbu]</td>\n",
       "    </tr>\n",
       "    <tr>\n",
       "      <th>6</th>\n",
       "      <td>CategoryID</td>\n",
       "      <td>int64</td>\n",
       "      <td>2082</td>\n",
       "      <td>0</td>\n",
       "      <td>0.0</td>\n",
       "      <td>8</td>\n",
       "      <td>[3, 1]</td>\n",
       "    </tr>\n",
       "    <tr>\n",
       "      <th>7</th>\n",
       "      <td>QuantityPerUnit</td>\n",
       "      <td>object</td>\n",
       "      <td>2082</td>\n",
       "      <td>0</td>\n",
       "      <td>0.0</td>\n",
       "      <td>70</td>\n",
       "      <td>[100 - 100 g pieces, 24 - 250 g  jars]</td>\n",
       "    </tr>\n",
       "    <tr>\n",
       "      <th>8</th>\n",
       "      <td>UnitsInStock</td>\n",
       "      <td>int64</td>\n",
       "      <td>2082</td>\n",
       "      <td>0</td>\n",
       "      <td>0.0</td>\n",
       "      <td>51</td>\n",
       "      <td>[95, 120]</td>\n",
       "    </tr>\n",
       "    <tr>\n",
       "      <th>9</th>\n",
       "      <td>UnitPrice</td>\n",
       "      <td>object</td>\n",
       "      <td>2082</td>\n",
       "      <td>0</td>\n",
       "      <td>0.0</td>\n",
       "      <td>116</td>\n",
       "      <td>[21.3500, 30.0000]</td>\n",
       "    </tr>\n",
       "    <tr>\n",
       "      <th>10</th>\n",
       "      <td>Quantity</td>\n",
       "      <td>int64</td>\n",
       "      <td>2082</td>\n",
       "      <td>0</td>\n",
       "      <td>0.0</td>\n",
       "      <td>54</td>\n",
       "      <td>[9, 84]</td>\n",
       "    </tr>\n",
       "    <tr>\n",
       "      <th>11</th>\n",
       "      <td>ShipCity</td>\n",
       "      <td>object</td>\n",
       "      <td>2082</td>\n",
       "      <td>0</td>\n",
       "      <td>0.0</td>\n",
       "      <td>70</td>\n",
       "      <td>[London, Marseille]</td>\n",
       "    </tr>\n",
       "    <tr>\n",
       "      <th>12</th>\n",
       "      <td>OrderID</td>\n",
       "      <td>int64</td>\n",
       "      <td>2082</td>\n",
       "      <td>0</td>\n",
       "      <td>0.0</td>\n",
       "      <td>809</td>\n",
       "      <td>[10764, 10581]</td>\n",
       "    </tr>\n",
       "    <tr>\n",
       "      <th>13</th>\n",
       "      <td>OrderDate</td>\n",
       "      <td>datetime64[ns]</td>\n",
       "      <td>2082</td>\n",
       "      <td>0</td>\n",
       "      <td>0.0</td>\n",
       "      <td>478</td>\n",
       "      <td>[1996-12-27T00:00:00.000000000, 1997-04-24T00:...</td>\n",
       "    </tr>\n",
       "    <tr>\n",
       "      <th>14</th>\n",
       "      <td>ShippedDate</td>\n",
       "      <td>datetime64[ns]</td>\n",
       "      <td>2082</td>\n",
       "      <td>0</td>\n",
       "      <td>0.0</td>\n",
       "      <td>387</td>\n",
       "      <td>[1997-01-30T00:00:00.000000000, 1997-09-01T00:...</td>\n",
       "    </tr>\n",
       "    <tr>\n",
       "      <th>15</th>\n",
       "      <td>RequiredDate</td>\n",
       "      <td>datetime64[ns]</td>\n",
       "      <td>2082</td>\n",
       "      <td>0</td>\n",
       "      <td>0.0</td>\n",
       "      <td>450</td>\n",
       "      <td>[1997-12-16T00:00:00.000000000, 1998-01-23T00:...</td>\n",
       "    </tr>\n",
       "    <tr>\n",
       "      <th>16</th>\n",
       "      <td>sellPrice</td>\n",
       "      <td>float64</td>\n",
       "      <td>2082</td>\n",
       "      <td>0</td>\n",
       "      <td>0.0</td>\n",
       "      <td>113</td>\n",
       "      <td>[9.8, 55.0]</td>\n",
       "    </tr>\n",
       "    <tr>\n",
       "      <th>17</th>\n",
       "      <td>restStock</td>\n",
       "      <td>int64</td>\n",
       "      <td>2082</td>\n",
       "      <td>0</td>\n",
       "      <td>0.0</td>\n",
       "      <td>117</td>\n",
       "      <td>[39, -1]</td>\n",
       "    </tr>\n",
       "    <tr>\n",
       "      <th>18</th>\n",
       "      <td>ProcessingDate</td>\n",
       "      <td>timedelta64[ns]</td>\n",
       "      <td>2082</td>\n",
       "      <td>0</td>\n",
       "      <td>0.0</td>\n",
       "      <td>53</td>\n",
       "      <td>[-777600000000000 nanoseconds, -25920000000000...</td>\n",
       "    </tr>\n",
       "  </tbody>\n",
       "</table>\n",
       "</div>"
      ],
      "text/plain": [
       "        Column Name        Data Type  Data Count  Missing Value  \\\n",
       "0        SupplierID            int64        2082              0   \n",
       "1       CompanyName           object        2082              0   \n",
       "2           Address           object        2082              0   \n",
       "3              City           object        2082              0   \n",
       "4           Country           object        2082              0   \n",
       "5       ProductName           object        2082              0   \n",
       "6        CategoryID            int64        2082              0   \n",
       "7   QuantityPerUnit           object        2082              0   \n",
       "8      UnitsInStock            int64        2082              0   \n",
       "9         UnitPrice           object        2082              0   \n",
       "10         Quantity            int64        2082              0   \n",
       "11         ShipCity           object        2082              0   \n",
       "12          OrderID            int64        2082              0   \n",
       "13        OrderDate   datetime64[ns]        2082              0   \n",
       "14      ShippedDate   datetime64[ns]        2082              0   \n",
       "15     RequiredDate   datetime64[ns]        2082              0   \n",
       "16        sellPrice          float64        2082              0   \n",
       "17        restStock            int64        2082              0   \n",
       "18   ProcessingDate  timedelta64[ns]        2082              0   \n",
       "\n",
       "    Missing Value Percentage  Number of Unique  \\\n",
       "0                        0.0                29   \n",
       "1                        0.0                29   \n",
       "2                        0.0                29   \n",
       "3                        0.0                29   \n",
       "4                        0.0                17   \n",
       "5                        0.0                77   \n",
       "6                        0.0                 8   \n",
       "7                        0.0                70   \n",
       "8                        0.0                51   \n",
       "9                        0.0               116   \n",
       "10                       0.0                54   \n",
       "11                       0.0                70   \n",
       "12                       0.0               809   \n",
       "13                       0.0               478   \n",
       "14                       0.0               387   \n",
       "15                       0.0               450   \n",
       "16                       0.0               113   \n",
       "17                       0.0               117   \n",
       "18                       0.0                53   \n",
       "\n",
       "                                        Unique Sample  \n",
       "0                                            [17, 10]  \n",
       "1                         [Leka Trading, Gai pturage]  \n",
       "2            [Viale Dante, 75, 92 Setsuko\\r\\nChuo-ku]  \n",
       "3                                [Montceau, So Paulo]  \n",
       "4                                     [France, Spain]  \n",
       "5                     [Escargots de Bourgogne, Konbu]  \n",
       "6                                              [3, 1]  \n",
       "7              [100 - 100 g pieces, 24 - 250 g  jars]  \n",
       "8                                           [95, 120]  \n",
       "9                                  [21.3500, 30.0000]  \n",
       "10                                            [9, 84]  \n",
       "11                                [London, Marseille]  \n",
       "12                                     [10764, 10581]  \n",
       "13  [1996-12-27T00:00:00.000000000, 1997-04-24T00:...  \n",
       "14  [1997-01-30T00:00:00.000000000, 1997-09-01T00:...  \n",
       "15  [1997-12-16T00:00:00.000000000, 1998-01-23T00:...  \n",
       "16                                        [9.8, 55.0]  \n",
       "17                                           [39, -1]  \n",
       "18  [-777600000000000 nanoseconds, -25920000000000...  "
      ]
     },
     "execution_count": 82,
     "metadata": {},
     "output_type": "execute_result"
    }
   ],
   "source": [
    "# Check Some Info\n",
    "\n",
    "listItem = []\n",
    "for col in tabel1.columns :\n",
    "    listItem.append([col, tabel1[col].dtype, len(tabel1),tabel1[col].isna().sum(), round((tabel1[col].isna().sum()/len(tabel1[col])) * 100,2),\n",
    "                    tabel1[col].nunique(), list(tabel1[col].drop_duplicates().sample(2).values)])\n",
    "\n",
    "tabel1Desc = pd.DataFrame(columns=['Column Name', 'Data Type', 'Data Count', 'Missing Value', \n",
    "    'Missing Value Percentage', 'Number of Unique', 'Unique Sample'],\n",
    "                     data=listItem)\n",
    "tabel1Desc"
   ]
  },
  {
   "cell_type": "code",
   "execution_count": 83,
   "metadata": {},
   "outputs": [],
   "source": [
    "tabel1['UnitPrice'] = tabel1['UnitPrice'].apply(np.int64)"
   ]
  },
  {
   "cell_type": "code",
   "execution_count": 84,
   "metadata": {},
   "outputs": [
    {
     "data": {
      "text/html": [
       "<div>\n",
       "<style scoped>\n",
       "    .dataframe tbody tr th:only-of-type {\n",
       "        vertical-align: middle;\n",
       "    }\n",
       "\n",
       "    .dataframe tbody tr th {\n",
       "        vertical-align: top;\n",
       "    }\n",
       "\n",
       "    .dataframe thead th {\n",
       "        text-align: right;\n",
       "    }\n",
       "</style>\n",
       "<table border=\"1\" class=\"dataframe\">\n",
       "  <thead>\n",
       "    <tr style=\"text-align: right;\">\n",
       "      <th></th>\n",
       "      <th>SupplierID</th>\n",
       "      <th>CompanyName</th>\n",
       "      <th>Address</th>\n",
       "      <th>City</th>\n",
       "      <th>Country</th>\n",
       "      <th>ProductName</th>\n",
       "      <th>CategoryID</th>\n",
       "      <th>QuantityPerUnit</th>\n",
       "      <th>UnitsInStock</th>\n",
       "      <th>UnitPrice</th>\n",
       "      <th>Quantity</th>\n",
       "      <th>ShipCity</th>\n",
       "      <th>OrderID</th>\n",
       "      <th>OrderDate</th>\n",
       "      <th>ShippedDate</th>\n",
       "      <th>RequiredDate</th>\n",
       "      <th>sellPrice</th>\n",
       "      <th>restStock</th>\n",
       "      <th>ProcessingDate</th>\n",
       "    </tr>\n",
       "  </thead>\n",
       "  <tbody>\n",
       "    <tr>\n",
       "      <th>218</th>\n",
       "      <td>4</td>\n",
       "      <td>Tokyo Traders</td>\n",
       "      <td>9-8 Sekimai\\r\\nMusashino-shi</td>\n",
       "      <td>Tokyo</td>\n",
       "      <td>Japan</td>\n",
       "      <td>Mishi Kobe Niku</td>\n",
       "      <td>6</td>\n",
       "      <td>18 - 500 g pkgs.</td>\n",
       "      <td>29</td>\n",
       "      <td>77</td>\n",
       "      <td>20</td>\n",
       "      <td>Resende</td>\n",
       "      <td>10420</td>\n",
       "      <td>1997-01-21</td>\n",
       "      <td>1997-01-27</td>\n",
       "      <td>1997-02-18</td>\n",
       "      <td>77.6</td>\n",
       "      <td>20</td>\n",
       "      <td>22 days</td>\n",
       "    </tr>\n",
       "    <tr>\n",
       "      <th>219</th>\n",
       "      <td>4</td>\n",
       "      <td>Tokyo Traders</td>\n",
       "      <td>9-8 Sekimai\\r\\nMusashino-shi</td>\n",
       "      <td>Tokyo</td>\n",
       "      <td>Japan</td>\n",
       "      <td>Mishi Kobe Niku</td>\n",
       "      <td>6</td>\n",
       "      <td>18 - 500 g pkgs.</td>\n",
       "      <td>29</td>\n",
       "      <td>97</td>\n",
       "      <td>16</td>\n",
       "      <td>Cunewalde</td>\n",
       "      <td>10515</td>\n",
       "      <td>1997-04-23</td>\n",
       "      <td>1997-05-23</td>\n",
       "      <td>1997-05-07</td>\n",
       "      <td>97.0</td>\n",
       "      <td>16</td>\n",
       "      <td>-16 days</td>\n",
       "    </tr>\n",
       "    <tr>\n",
       "      <th>220</th>\n",
       "      <td>4</td>\n",
       "      <td>Tokyo Traders</td>\n",
       "      <td>9-8 Sekimai\\r\\nMusashino-shi</td>\n",
       "      <td>Tokyo</td>\n",
       "      <td>Japan</td>\n",
       "      <td>Mishi Kobe Niku</td>\n",
       "      <td>6</td>\n",
       "      <td>18 - 500 g pkgs.</td>\n",
       "      <td>29</td>\n",
       "      <td>97</td>\n",
       "      <td>50</td>\n",
       "      <td>Cork</td>\n",
       "      <td>10687</td>\n",
       "      <td>1997-09-30</td>\n",
       "      <td>1997-10-30</td>\n",
       "      <td>1997-10-28</td>\n",
       "      <td>97.0</td>\n",
       "      <td>50</td>\n",
       "      <td>-2 days</td>\n",
       "    </tr>\n",
       "    <tr>\n",
       "      <th>221</th>\n",
       "      <td>4</td>\n",
       "      <td>Tokyo Traders</td>\n",
       "      <td>9-8 Sekimai\\r\\nMusashino-shi</td>\n",
       "      <td>Tokyo</td>\n",
       "      <td>Japan</td>\n",
       "      <td>Mishi Kobe Niku</td>\n",
       "      <td>6</td>\n",
       "      <td>18 - 500 g pkgs.</td>\n",
       "      <td>29</td>\n",
       "      <td>97</td>\n",
       "      <td>6</td>\n",
       "      <td>Seattle</td>\n",
       "      <td>10693</td>\n",
       "      <td>1997-10-06</td>\n",
       "      <td>1997-10-10</td>\n",
       "      <td>1997-10-20</td>\n",
       "      <td>97.0</td>\n",
       "      <td>6</td>\n",
       "      <td>10 days</td>\n",
       "    </tr>\n",
       "    <tr>\n",
       "      <th>222</th>\n",
       "      <td>4</td>\n",
       "      <td>Tokyo Traders</td>\n",
       "      <td>9-8 Sekimai\\r\\nMusashino-shi</td>\n",
       "      <td>Tokyo</td>\n",
       "      <td>Japan</td>\n",
       "      <td>Mishi Kobe Niku</td>\n",
       "      <td>6</td>\n",
       "      <td>18 - 500 g pkgs.</td>\n",
       "      <td>29</td>\n",
       "      <td>97</td>\n",
       "      <td>3</td>\n",
       "      <td>London</td>\n",
       "      <td>10848</td>\n",
       "      <td>1998-01-23</td>\n",
       "      <td>1998-01-29</td>\n",
       "      <td>1998-02-20</td>\n",
       "      <td>97.0</td>\n",
       "      <td>3</td>\n",
       "      <td>22 days</td>\n",
       "    </tr>\n",
       "    <tr>\n",
       "      <th>...</th>\n",
       "      <td>...</td>\n",
       "      <td>...</td>\n",
       "      <td>...</td>\n",
       "      <td>...</td>\n",
       "      <td>...</td>\n",
       "      <td>...</td>\n",
       "      <td>...</td>\n",
       "      <td>...</td>\n",
       "      <td>...</td>\n",
       "      <td>...</td>\n",
       "      <td>...</td>\n",
       "      <td>...</td>\n",
       "      <td>...</td>\n",
       "      <td>...</td>\n",
       "      <td>...</td>\n",
       "      <td>...</td>\n",
       "      <td>...</td>\n",
       "      <td>...</td>\n",
       "      <td>...</td>\n",
       "    </tr>\n",
       "    <tr>\n",
       "      <th>1377</th>\n",
       "      <td>18</td>\n",
       "      <td>Aux joyeux ecclsiastiques</td>\n",
       "      <td>203, Rue des Francs-Bourgeois</td>\n",
       "      <td>Paris</td>\n",
       "      <td>France</td>\n",
       "      <td>Cte de Blaye</td>\n",
       "      <td>1</td>\n",
       "      <td>12 - 75 cl bottles</td>\n",
       "      <td>17</td>\n",
       "      <td>263</td>\n",
       "      <td>60</td>\n",
       "      <td>Cunewalde</td>\n",
       "      <td>10865</td>\n",
       "      <td>1998-02-02</td>\n",
       "      <td>1998-02-12</td>\n",
       "      <td>1998-02-16</td>\n",
       "      <td>263.5</td>\n",
       "      <td>60</td>\n",
       "      <td>4 days</td>\n",
       "    </tr>\n",
       "    <tr>\n",
       "      <th>1378</th>\n",
       "      <td>18</td>\n",
       "      <td>Aux joyeux ecclsiastiques</td>\n",
       "      <td>203, Rue des Francs-Bourgeois</td>\n",
       "      <td>Paris</td>\n",
       "      <td>France</td>\n",
       "      <td>Cte de Blaye</td>\n",
       "      <td>1</td>\n",
       "      <td>12 - 75 cl bottles</td>\n",
       "      <td>17</td>\n",
       "      <td>263</td>\n",
       "      <td>40</td>\n",
       "      <td>Albuquerque</td>\n",
       "      <td>10889</td>\n",
       "      <td>1998-02-16</td>\n",
       "      <td>1998-02-23</td>\n",
       "      <td>1998-03-16</td>\n",
       "      <td>263.5</td>\n",
       "      <td>40</td>\n",
       "      <td>21 days</td>\n",
       "    </tr>\n",
       "    <tr>\n",
       "      <th>1379</th>\n",
       "      <td>18</td>\n",
       "      <td>Aux joyeux ecclsiastiques</td>\n",
       "      <td>203, Rue des Francs-Bourgeois</td>\n",
       "      <td>Paris</td>\n",
       "      <td>France</td>\n",
       "      <td>Cte de Blaye</td>\n",
       "      <td>1</td>\n",
       "      <td>12 - 75 cl bottles</td>\n",
       "      <td>17</td>\n",
       "      <td>263</td>\n",
       "      <td>5</td>\n",
       "      <td>Paris</td>\n",
       "      <td>10964</td>\n",
       "      <td>1998-03-20</td>\n",
       "      <td>1998-03-24</td>\n",
       "      <td>1998-04-17</td>\n",
       "      <td>263.5</td>\n",
       "      <td>5</td>\n",
       "      <td>24 days</td>\n",
       "    </tr>\n",
       "    <tr>\n",
       "      <th>1380</th>\n",
       "      <td>18</td>\n",
       "      <td>Aux joyeux ecclsiastiques</td>\n",
       "      <td>203, Rue des Francs-Bourgeois</td>\n",
       "      <td>Paris</td>\n",
       "      <td>France</td>\n",
       "      <td>Cte de Blaye</td>\n",
       "      <td>1</td>\n",
       "      <td>12 - 75 cl bottles</td>\n",
       "      <td>17</td>\n",
       "      <td>263</td>\n",
       "      <td>60</td>\n",
       "      <td>Rio de Janeiro</td>\n",
       "      <td>10981</td>\n",
       "      <td>1998-03-27</td>\n",
       "      <td>1998-04-02</td>\n",
       "      <td>1998-04-24</td>\n",
       "      <td>263.5</td>\n",
       "      <td>60</td>\n",
       "      <td>22 days</td>\n",
       "    </tr>\n",
       "    <tr>\n",
       "      <th>1381</th>\n",
       "      <td>18</td>\n",
       "      <td>Aux joyeux ecclsiastiques</td>\n",
       "      <td>203, Rue des Francs-Bourgeois</td>\n",
       "      <td>Paris</td>\n",
       "      <td>France</td>\n",
       "      <td>Cte de Blaye</td>\n",
       "      <td>1</td>\n",
       "      <td>12 - 75 cl bottles</td>\n",
       "      <td>17</td>\n",
       "      <td>263</td>\n",
       "      <td>25</td>\n",
       "      <td>Seattle</td>\n",
       "      <td>11032</td>\n",
       "      <td>1998-04-17</td>\n",
       "      <td>1998-04-23</td>\n",
       "      <td>1998-05-15</td>\n",
       "      <td>263.5</td>\n",
       "      <td>25</td>\n",
       "      <td>22 days</td>\n",
       "    </tr>\n",
       "  </tbody>\n",
       "</table>\n",
       "<p>76 rows × 19 columns</p>\n",
       "</div>"
      ],
      "text/plain": [
       "      SupplierID                CompanyName                        Address  \\\n",
       "218            4              Tokyo Traders   9-8 Sekimai\\r\\nMusashino-shi   \n",
       "219            4              Tokyo Traders   9-8 Sekimai\\r\\nMusashino-shi   \n",
       "220            4              Tokyo Traders   9-8 Sekimai\\r\\nMusashino-shi   \n",
       "221            4              Tokyo Traders   9-8 Sekimai\\r\\nMusashino-shi   \n",
       "222            4              Tokyo Traders   9-8 Sekimai\\r\\nMusashino-shi   \n",
       "...          ...                        ...                            ...   \n",
       "1377          18  Aux joyeux ecclsiastiques  203, Rue des Francs-Bourgeois   \n",
       "1378          18  Aux joyeux ecclsiastiques  203, Rue des Francs-Bourgeois   \n",
       "1379          18  Aux joyeux ecclsiastiques  203, Rue des Francs-Bourgeois   \n",
       "1380          18  Aux joyeux ecclsiastiques  203, Rue des Francs-Bourgeois   \n",
       "1381          18  Aux joyeux ecclsiastiques  203, Rue des Francs-Bourgeois   \n",
       "\n",
       "       City Country      ProductName  CategoryID     QuantityPerUnit  \\\n",
       "218   Tokyo   Japan  Mishi Kobe Niku           6    18 - 500 g pkgs.   \n",
       "219   Tokyo   Japan  Mishi Kobe Niku           6    18 - 500 g pkgs.   \n",
       "220   Tokyo   Japan  Mishi Kobe Niku           6    18 - 500 g pkgs.   \n",
       "221   Tokyo   Japan  Mishi Kobe Niku           6    18 - 500 g pkgs.   \n",
       "222   Tokyo   Japan  Mishi Kobe Niku           6    18 - 500 g pkgs.   \n",
       "...     ...     ...              ...         ...                 ...   \n",
       "1377  Paris  France     Cte de Blaye           1  12 - 75 cl bottles   \n",
       "1378  Paris  France     Cte de Blaye           1  12 - 75 cl bottles   \n",
       "1379  Paris  France     Cte de Blaye           1  12 - 75 cl bottles   \n",
       "1380  Paris  France     Cte de Blaye           1  12 - 75 cl bottles   \n",
       "1381  Paris  France     Cte de Blaye           1  12 - 75 cl bottles   \n",
       "\n",
       "      UnitsInStock  UnitPrice  Quantity        ShipCity  OrderID  OrderDate  \\\n",
       "218             29         77        20         Resende    10420 1997-01-21   \n",
       "219             29         97        16       Cunewalde    10515 1997-04-23   \n",
       "220             29         97        50            Cork    10687 1997-09-30   \n",
       "221             29         97         6         Seattle    10693 1997-10-06   \n",
       "222             29         97         3          London    10848 1998-01-23   \n",
       "...            ...        ...       ...             ...      ...        ...   \n",
       "1377            17        263        60       Cunewalde    10865 1998-02-02   \n",
       "1378            17        263        40     Albuquerque    10889 1998-02-16   \n",
       "1379            17        263         5           Paris    10964 1998-03-20   \n",
       "1380            17        263        60  Rio de Janeiro    10981 1998-03-27   \n",
       "1381            17        263        25         Seattle    11032 1998-04-17   \n",
       "\n",
       "     ShippedDate RequiredDate  sellPrice  restStock ProcessingDate  \n",
       "218   1997-01-27   1997-02-18       77.6         20        22 days  \n",
       "219   1997-05-23   1997-05-07       97.0         16       -16 days  \n",
       "220   1997-10-30   1997-10-28       97.0         50        -2 days  \n",
       "221   1997-10-10   1997-10-20       97.0          6        10 days  \n",
       "222   1998-01-29   1998-02-20       97.0          3        22 days  \n",
       "...          ...          ...        ...        ...            ...  \n",
       "1377  1998-02-12   1998-02-16      263.5         60         4 days  \n",
       "1378  1998-02-23   1998-03-16      263.5         40        21 days  \n",
       "1379  1998-03-24   1998-04-17      263.5          5        24 days  \n",
       "1380  1998-04-02   1998-04-24      263.5         60        22 days  \n",
       "1381  1998-04-23   1998-05-15      263.5         25        22 days  \n",
       "\n",
       "[76 rows x 19 columns]"
      ]
     },
     "execution_count": 84,
     "metadata": {},
     "output_type": "execute_result"
    }
   ],
   "source": [
    "q1 = tabel1['UnitPrice'].describe()['25%']\n",
    "q3 = tabel1['UnitPrice'].describe()['75%']\n",
    "\n",
    "iqr = q3 -q1\n",
    "outlier_index = tabel1[(tabel1['UnitPrice'] < q1 - (1.5 * iqr)) | (tabel1['UnitPrice']> q3 + (1.5 * iqr)) ].index\n",
    "not_outlier_index = tabel1[(tabel1['UnitPrice'] > q1 - (1.5 * iqr)) & (tabel1['UnitPrice']< q3 + (1.5 * iqr)) ].index\n",
    "tabel1.loc[outlier_index]"
   ]
  },
  {
   "cell_type": "markdown",
   "metadata": {},
   "source": [
    "# **DATA VISUALIZATION & STATISTICS**\n",
    "\n",
    "## **Top 5 Suppliers**"
   ]
  },
  {
   "cell_type": "markdown",
   "metadata": {},
   "source": [
    "Setelah mendapatkan data yang sudah 'bersih' dan siap untuk digunakan, masuklah kita ke bagian analisis data dengan menggunakan visual sebagai medianya. Di sini, kita akan melakukan visualisasi data untuk mendapatkan beberapa insight yang kemudian dapat menjadi landasan dalam pengambilan keputusan dan penyusunan strategi yang kuat untuk mendapatkan profit yang sebesar-besarnya dengan kerugian yang minim."
   ]
  },
  {
   "cell_type": "code",
   "execution_count": 85,
   "metadata": {},
   "outputs": [],
   "source": [
    "import plotly.express as px\n",
    "import matplotlib.pyplot as plt\n",
    "import seaborn as sns"
   ]
  },
  {
   "cell_type": "code",
   "execution_count": 86,
   "metadata": {},
   "outputs": [
    {
     "data": {
      "application/vnd.plotly.v1+json": {
       "config": {
        "plotlyServerURL": "https://plot.ly"
       },
       "data": [
        {
         "alignmentgroup": "True",
         "hovertemplate": "variable=CompanyName<br>index=%{x}<br>value=%{y}<extra></extra>",
         "legendgroup": "CompanyName",
         "marker": {
          "color": "#636efa",
          "pattern": {
           "shape": ""
          }
         },
         "name": "CompanyName",
         "offsetgroup": "CompanyName",
         "orientation": "v",
         "showlegend": true,
         "textposition": "auto",
         "type": "bar",
         "x": [
          "Plutzer Lebensmittelgromrkte AG",
          "Pavlova, Ltd.",
          "Specialty Biscuits, Ltd.",
          "Norske Meierier",
          "Formaggi Fortini s.r.l."
         ],
         "xaxis": "x",
         "y": [
          171,
          158,
          122,
          102,
          102
         ],
         "yaxis": "y"
        }
       ],
       "layout": {
        "barmode": "relative",
        "legend": {
         "title": {
          "text": "variable"
         },
         "tracegroupgap": 0
        },
        "template": {
         "data": {
          "bar": [
           {
            "error_x": {
             "color": "#2a3f5f"
            },
            "error_y": {
             "color": "#2a3f5f"
            },
            "marker": {
             "line": {
              "color": "#E5ECF6",
              "width": 0.5
             },
             "pattern": {
              "fillmode": "overlay",
              "size": 10,
              "solidity": 0.2
             }
            },
            "type": "bar"
           }
          ],
          "barpolar": [
           {
            "marker": {
             "line": {
              "color": "#E5ECF6",
              "width": 0.5
             },
             "pattern": {
              "fillmode": "overlay",
              "size": 10,
              "solidity": 0.2
             }
            },
            "type": "barpolar"
           }
          ],
          "carpet": [
           {
            "aaxis": {
             "endlinecolor": "#2a3f5f",
             "gridcolor": "white",
             "linecolor": "white",
             "minorgridcolor": "white",
             "startlinecolor": "#2a3f5f"
            },
            "baxis": {
             "endlinecolor": "#2a3f5f",
             "gridcolor": "white",
             "linecolor": "white",
             "minorgridcolor": "white",
             "startlinecolor": "#2a3f5f"
            },
            "type": "carpet"
           }
          ],
          "choropleth": [
           {
            "colorbar": {
             "outlinewidth": 0,
             "ticks": ""
            },
            "type": "choropleth"
           }
          ],
          "contour": [
           {
            "colorbar": {
             "outlinewidth": 0,
             "ticks": ""
            },
            "colorscale": [
             [
              0,
              "#0d0887"
             ],
             [
              0.1111111111111111,
              "#46039f"
             ],
             [
              0.2222222222222222,
              "#7201a8"
             ],
             [
              0.3333333333333333,
              "#9c179e"
             ],
             [
              0.4444444444444444,
              "#bd3786"
             ],
             [
              0.5555555555555556,
              "#d8576b"
             ],
             [
              0.6666666666666666,
              "#ed7953"
             ],
             [
              0.7777777777777778,
              "#fb9f3a"
             ],
             [
              0.8888888888888888,
              "#fdca26"
             ],
             [
              1,
              "#f0f921"
             ]
            ],
            "type": "contour"
           }
          ],
          "contourcarpet": [
           {
            "colorbar": {
             "outlinewidth": 0,
             "ticks": ""
            },
            "type": "contourcarpet"
           }
          ],
          "heatmap": [
           {
            "colorbar": {
             "outlinewidth": 0,
             "ticks": ""
            },
            "colorscale": [
             [
              0,
              "#0d0887"
             ],
             [
              0.1111111111111111,
              "#46039f"
             ],
             [
              0.2222222222222222,
              "#7201a8"
             ],
             [
              0.3333333333333333,
              "#9c179e"
             ],
             [
              0.4444444444444444,
              "#bd3786"
             ],
             [
              0.5555555555555556,
              "#d8576b"
             ],
             [
              0.6666666666666666,
              "#ed7953"
             ],
             [
              0.7777777777777778,
              "#fb9f3a"
             ],
             [
              0.8888888888888888,
              "#fdca26"
             ],
             [
              1,
              "#f0f921"
             ]
            ],
            "type": "heatmap"
           }
          ],
          "heatmapgl": [
           {
            "colorbar": {
             "outlinewidth": 0,
             "ticks": ""
            },
            "colorscale": [
             [
              0,
              "#0d0887"
             ],
             [
              0.1111111111111111,
              "#46039f"
             ],
             [
              0.2222222222222222,
              "#7201a8"
             ],
             [
              0.3333333333333333,
              "#9c179e"
             ],
             [
              0.4444444444444444,
              "#bd3786"
             ],
             [
              0.5555555555555556,
              "#d8576b"
             ],
             [
              0.6666666666666666,
              "#ed7953"
             ],
             [
              0.7777777777777778,
              "#fb9f3a"
             ],
             [
              0.8888888888888888,
              "#fdca26"
             ],
             [
              1,
              "#f0f921"
             ]
            ],
            "type": "heatmapgl"
           }
          ],
          "histogram": [
           {
            "marker": {
             "pattern": {
              "fillmode": "overlay",
              "size": 10,
              "solidity": 0.2
             }
            },
            "type": "histogram"
           }
          ],
          "histogram2d": [
           {
            "colorbar": {
             "outlinewidth": 0,
             "ticks": ""
            },
            "colorscale": [
             [
              0,
              "#0d0887"
             ],
             [
              0.1111111111111111,
              "#46039f"
             ],
             [
              0.2222222222222222,
              "#7201a8"
             ],
             [
              0.3333333333333333,
              "#9c179e"
             ],
             [
              0.4444444444444444,
              "#bd3786"
             ],
             [
              0.5555555555555556,
              "#d8576b"
             ],
             [
              0.6666666666666666,
              "#ed7953"
             ],
             [
              0.7777777777777778,
              "#fb9f3a"
             ],
             [
              0.8888888888888888,
              "#fdca26"
             ],
             [
              1,
              "#f0f921"
             ]
            ],
            "type": "histogram2d"
           }
          ],
          "histogram2dcontour": [
           {
            "colorbar": {
             "outlinewidth": 0,
             "ticks": ""
            },
            "colorscale": [
             [
              0,
              "#0d0887"
             ],
             [
              0.1111111111111111,
              "#46039f"
             ],
             [
              0.2222222222222222,
              "#7201a8"
             ],
             [
              0.3333333333333333,
              "#9c179e"
             ],
             [
              0.4444444444444444,
              "#bd3786"
             ],
             [
              0.5555555555555556,
              "#d8576b"
             ],
             [
              0.6666666666666666,
              "#ed7953"
             ],
             [
              0.7777777777777778,
              "#fb9f3a"
             ],
             [
              0.8888888888888888,
              "#fdca26"
             ],
             [
              1,
              "#f0f921"
             ]
            ],
            "type": "histogram2dcontour"
           }
          ],
          "mesh3d": [
           {
            "colorbar": {
             "outlinewidth": 0,
             "ticks": ""
            },
            "type": "mesh3d"
           }
          ],
          "parcoords": [
           {
            "line": {
             "colorbar": {
              "outlinewidth": 0,
              "ticks": ""
             }
            },
            "type": "parcoords"
           }
          ],
          "pie": [
           {
            "automargin": true,
            "type": "pie"
           }
          ],
          "scatter": [
           {
            "marker": {
             "colorbar": {
              "outlinewidth": 0,
              "ticks": ""
             }
            },
            "type": "scatter"
           }
          ],
          "scatter3d": [
           {
            "line": {
             "colorbar": {
              "outlinewidth": 0,
              "ticks": ""
             }
            },
            "marker": {
             "colorbar": {
              "outlinewidth": 0,
              "ticks": ""
             }
            },
            "type": "scatter3d"
           }
          ],
          "scattercarpet": [
           {
            "marker": {
             "colorbar": {
              "outlinewidth": 0,
              "ticks": ""
             }
            },
            "type": "scattercarpet"
           }
          ],
          "scattergeo": [
           {
            "marker": {
             "colorbar": {
              "outlinewidth": 0,
              "ticks": ""
             }
            },
            "type": "scattergeo"
           }
          ],
          "scattergl": [
           {
            "marker": {
             "colorbar": {
              "outlinewidth": 0,
              "ticks": ""
             }
            },
            "type": "scattergl"
           }
          ],
          "scattermapbox": [
           {
            "marker": {
             "colorbar": {
              "outlinewidth": 0,
              "ticks": ""
             }
            },
            "type": "scattermapbox"
           }
          ],
          "scatterpolar": [
           {
            "marker": {
             "colorbar": {
              "outlinewidth": 0,
              "ticks": ""
             }
            },
            "type": "scatterpolar"
           }
          ],
          "scatterpolargl": [
           {
            "marker": {
             "colorbar": {
              "outlinewidth": 0,
              "ticks": ""
             }
            },
            "type": "scatterpolargl"
           }
          ],
          "scatterternary": [
           {
            "marker": {
             "colorbar": {
              "outlinewidth": 0,
              "ticks": ""
             }
            },
            "type": "scatterternary"
           }
          ],
          "surface": [
           {
            "colorbar": {
             "outlinewidth": 0,
             "ticks": ""
            },
            "colorscale": [
             [
              0,
              "#0d0887"
             ],
             [
              0.1111111111111111,
              "#46039f"
             ],
             [
              0.2222222222222222,
              "#7201a8"
             ],
             [
              0.3333333333333333,
              "#9c179e"
             ],
             [
              0.4444444444444444,
              "#bd3786"
             ],
             [
              0.5555555555555556,
              "#d8576b"
             ],
             [
              0.6666666666666666,
              "#ed7953"
             ],
             [
              0.7777777777777778,
              "#fb9f3a"
             ],
             [
              0.8888888888888888,
              "#fdca26"
             ],
             [
              1,
              "#f0f921"
             ]
            ],
            "type": "surface"
           }
          ],
          "table": [
           {
            "cells": {
             "fill": {
              "color": "#EBF0F8"
             },
             "line": {
              "color": "white"
             }
            },
            "header": {
             "fill": {
              "color": "#C8D4E3"
             },
             "line": {
              "color": "white"
             }
            },
            "type": "table"
           }
          ]
         },
         "layout": {
          "annotationdefaults": {
           "arrowcolor": "#2a3f5f",
           "arrowhead": 0,
           "arrowwidth": 1
          },
          "autotypenumbers": "strict",
          "coloraxis": {
           "colorbar": {
            "outlinewidth": 0,
            "ticks": ""
           }
          },
          "colorscale": {
           "diverging": [
            [
             0,
             "#8e0152"
            ],
            [
             0.1,
             "#c51b7d"
            ],
            [
             0.2,
             "#de77ae"
            ],
            [
             0.3,
             "#f1b6da"
            ],
            [
             0.4,
             "#fde0ef"
            ],
            [
             0.5,
             "#f7f7f7"
            ],
            [
             0.6,
             "#e6f5d0"
            ],
            [
             0.7,
             "#b8e186"
            ],
            [
             0.8,
             "#7fbc41"
            ],
            [
             0.9,
             "#4d9221"
            ],
            [
             1,
             "#276419"
            ]
           ],
           "sequential": [
            [
             0,
             "#0d0887"
            ],
            [
             0.1111111111111111,
             "#46039f"
            ],
            [
             0.2222222222222222,
             "#7201a8"
            ],
            [
             0.3333333333333333,
             "#9c179e"
            ],
            [
             0.4444444444444444,
             "#bd3786"
            ],
            [
             0.5555555555555556,
             "#d8576b"
            ],
            [
             0.6666666666666666,
             "#ed7953"
            ],
            [
             0.7777777777777778,
             "#fb9f3a"
            ],
            [
             0.8888888888888888,
             "#fdca26"
            ],
            [
             1,
             "#f0f921"
            ]
           ],
           "sequentialminus": [
            [
             0,
             "#0d0887"
            ],
            [
             0.1111111111111111,
             "#46039f"
            ],
            [
             0.2222222222222222,
             "#7201a8"
            ],
            [
             0.3333333333333333,
             "#9c179e"
            ],
            [
             0.4444444444444444,
             "#bd3786"
            ],
            [
             0.5555555555555556,
             "#d8576b"
            ],
            [
             0.6666666666666666,
             "#ed7953"
            ],
            [
             0.7777777777777778,
             "#fb9f3a"
            ],
            [
             0.8888888888888888,
             "#fdca26"
            ],
            [
             1,
             "#f0f921"
            ]
           ]
          },
          "colorway": [
           "#636efa",
           "#EF553B",
           "#00cc96",
           "#ab63fa",
           "#FFA15A",
           "#19d3f3",
           "#FF6692",
           "#B6E880",
           "#FF97FF",
           "#FECB52"
          ],
          "font": {
           "color": "#2a3f5f"
          },
          "geo": {
           "bgcolor": "white",
           "lakecolor": "white",
           "landcolor": "#E5ECF6",
           "showlakes": true,
           "showland": true,
           "subunitcolor": "white"
          },
          "hoverlabel": {
           "align": "left"
          },
          "hovermode": "closest",
          "mapbox": {
           "style": "light"
          },
          "paper_bgcolor": "white",
          "plot_bgcolor": "#E5ECF6",
          "polar": {
           "angularaxis": {
            "gridcolor": "white",
            "linecolor": "white",
            "ticks": ""
           },
           "bgcolor": "#E5ECF6",
           "radialaxis": {
            "gridcolor": "white",
            "linecolor": "white",
            "ticks": ""
           }
          },
          "scene": {
           "xaxis": {
            "backgroundcolor": "#E5ECF6",
            "gridcolor": "white",
            "gridwidth": 2,
            "linecolor": "white",
            "showbackground": true,
            "ticks": "",
            "zerolinecolor": "white"
           },
           "yaxis": {
            "backgroundcolor": "#E5ECF6",
            "gridcolor": "white",
            "gridwidth": 2,
            "linecolor": "white",
            "showbackground": true,
            "ticks": "",
            "zerolinecolor": "white"
           },
           "zaxis": {
            "backgroundcolor": "#E5ECF6",
            "gridcolor": "white",
            "gridwidth": 2,
            "linecolor": "white",
            "showbackground": true,
            "ticks": "",
            "zerolinecolor": "white"
           }
          },
          "shapedefaults": {
           "line": {
            "color": "#2a3f5f"
           }
          },
          "ternary": {
           "aaxis": {
            "gridcolor": "white",
            "linecolor": "white",
            "ticks": ""
           },
           "baxis": {
            "gridcolor": "white",
            "linecolor": "white",
            "ticks": ""
           },
           "bgcolor": "#E5ECF6",
           "caxis": {
            "gridcolor": "white",
            "linecolor": "white",
            "ticks": ""
           }
          },
          "title": {
           "x": 0.05
          },
          "xaxis": {
           "automargin": true,
           "gridcolor": "white",
           "linecolor": "white",
           "ticks": "",
           "title": {
            "standoff": 15
           },
           "zerolinecolor": "white",
           "zerolinewidth": 2
          },
          "yaxis": {
           "automargin": true,
           "gridcolor": "white",
           "linecolor": "white",
           "ticks": "",
           "title": {
            "standoff": 15
           },
           "zerolinecolor": "white",
           "zerolinewidth": 2
          }
         }
        },
        "title": {
         "text": "Loyal Company"
        },
        "xaxis": {
         "anchor": "y",
         "domain": [
          0,
          1
         ],
         "title": {
          "text": "index"
         }
        },
        "yaxis": {
         "anchor": "x",
         "domain": [
          0,
          1
         ],
         "title": {
          "text": "value"
         }
        }
       }
      }
     },
     "metadata": {},
     "output_type": "display_data"
    }
   ],
   "source": [
    "fig = px.bar(tabel1['CompanyName'].value_counts().head(),\n",
    "            title = 'Loyal Company')\n",
    "fig.show()"
   ]
  },
  {
   "cell_type": "code",
   "execution_count": null,
   "metadata": {},
   "outputs": [],
   "source": []
  },
  {
   "cell_type": "markdown",
   "metadata": {},
   "source": [
    "Produksi dalam restoran merupakan produksi yang terus menerus harus tersedia dengan permintaan yang bersifat tidak tentu atau tidak pasti berdasarkan permintaan komsumen. Ketersediaan bahan mentah sangat diutamakan untuk mendukung proses produksi. Dari sekian banyak produk bahan mentah yang harus diorder, manajemen pembelian sering kesulitan dalam memilih pemasok bahan baku yang tepat untuk setiap proses order.\n",
    "Mari kita lihat data nama perusahan supplier yang sering melakukan order bahan makanan. perusahan yang serin melakukan pembelian adalah Plutzer dan Pavlova dengan total transaksi lebih dari 150 kali. Artinya, kedua perusahaan ini adalah pembeli setia, sementara Jumlah transaksi yang dilakukan oleh ketiga perusahaan lain masih kalah jauh dari 2 perusahaan sebelumnya.\n",
    "\n"
   ]
  },
  {
   "cell_type": "markdown",
   "metadata": {},
   "source": [
    "## **Negara Pemesan Bahan Makanan Terbanyak**"
   ]
  },
  {
   "cell_type": "code",
   "execution_count": 87,
   "metadata": {},
   "outputs": [
    {
     "name": "stderr",
     "output_type": "stream",
     "text": [
      "C:\\Users\\Asus\\AppData\\Local\\Programs\\Python\\Python310\\lib\\site-packages\\seaborn\\_decorators.py:36: FutureWarning:\n",
      "\n",
      "Pass the following variable as a keyword arg: x. From version 0.12, the only valid positional argument will be `data`, and passing other arguments without an explicit keyword will result in an error or misinterpretation.\n",
      "\n"
     ]
    },
    {
     "data": {
      "image/png": "[encoded data removed]",
      "text/plain": [
       "<Figure size 1440x720 with 1 Axes>"
      ]
     },
     "metadata": {},
     "output_type": "display_data"
    }
   ],
   "source": [
    "plt.figure(figsize=(20,10))\n",
    "sns.countplot(tabel1['Country'],\n",
    "            order = tabel1['Country'].value_counts().index)\n",
    "plt.xlabel('Negara', size = 20)\n",
    "plt.ylabel('Jumlah Pesanan', size = 20)\n",
    "plt.title ('Negara Pemesan Bahan Makanan Terbanyak', size = 30)\n",
    "plt.show()"
   ]
  },
  {
   "cell_type": "markdown",
   "metadata": {},
   "source": [
    "Setelah sebelumnya telah mengetahui perusahan yang sering membeli atau loyal, berikutnya mari ktia lihat negara mana saja yang menjadi pemesan bahan makanan terbanyak. Jika melihat data dari grafik di atas, terlihat jelas bahwa USA atau Amerika Serikat menjadi negara tujuan pemesan terbanyak. Tentu saja hal tersebut sangat mungkin diakrenakan status Amerika sebagai negara adidaya yang pastinya akan lebih banyak menjadi pemasok bahan makanan daripada negara-negara lainnya. Luar biasanya, tingkat pembelian yang berasal dari negara USA mencapai lebih dari 250 yang berarti 2 kali lipat lebih banyak dari negara lain.\n",
    "\n",
    "Jika mempertimbangkan hal tersebut, maka perusahaan pemasok bahan makanan ini harus sangat mempertimbangkan untuk paling tidak membangun pusat produksi dan kantor di 3 negara, yaitu USA, Germany, dan Australia. Tujuannya jelas, yaitu agar proses penujalan dan distribusi dari negara tujuan pembeli dapat dilakukan dalam waktu cepat. "
   ]
  },
  {
   "cell_type": "code",
   "execution_count": 88,
   "metadata": {},
   "outputs": [
    {
     "data": {
      "image/png": "[encoded data removed]",
      "text/plain": [
       "<Figure size 1440x1080 with 1 Axes>"
      ]
     },
     "metadata": {},
     "output_type": "display_data"
    }
   ],
   "source": [
    "# Pie Chart Status\n",
    "\n",
    "plt.style.use('seaborn')\n",
    "plt.figure(figsize=(20,15))\n",
    "plt.pie(tabel1['City'].value_counts().values, \n",
    "        autopct='%.2f%%', explode= (None), shadow=True)\n",
    "plt.title ('Persentase Kota Terbanyak Memesan Bahan Makanan', size = 30)\n",
    "plt.legend(tabel1['City'].unique())\n",
    "plt.show()"
   ]
  },
  {
   "cell_type": "code",
   "execution_count": 89,
   "metadata": {},
   "outputs": [
    {
     "data": {
      "image/png": "[encoded data removed]",
      "text/plain": [
       "<Figure size 1440x720 with 1 Axes>"
      ]
     },
     "metadata": {},
     "output_type": "display_data"
    }
   ],
   "source": [
    "# Pengiriman Bahan Makanan Terbanyak\n",
    "\n",
    "productQuanti = tabel1[['ProductName', 'ShipCity']].groupby(['ProductName']).count().sort_values('ShipCity')\n",
    "x = productQuanti.index\n",
    "y = productQuanti['ShipCity']\n",
    "\n",
    "plt.style.use('seaborn')\n",
    "plt.figure(figsize = (20,10))\n",
    "plt.barh(x,y, color = sns.color_palette('bright'))\n",
    "plt.title('Pengiriman Bahan Makanan Terbanyak', size = 30)\n",
    "plt.xlabel('Quantities', size = 25)\n",
    "plt.ylabel('Product', size = 25)\n",
    "plt.show()"
   ]
  },
  {
   "cell_type": "markdown",
   "metadata": {},
   "source": [
    "## **Perbedaan Harga**"
   ]
  },
  {
   "cell_type": "code",
   "execution_count": 90,
   "metadata": {},
   "outputs": [
    {
     "name": "stdout",
     "output_type": "stream",
     "text": [
      "Tolak H0 Karena P-Value (0.0 < 5%)\n",
      "DATA TIDAK BERDISTRIBUS NORMAL\n"
     ]
    }
   ],
   "source": [
    "# Uji Perbandingan Nilai UnitPrice Antar Setiap Product (Normalitas)\n",
    "\n",
    "from scipy.stats import shapiro\n",
    "\n",
    "norm, pval = shapiro(tabel1['UnitPrice'])\n",
    "\n",
    "if pval < 0.05 :\n",
    "    print (f'Tolak H0 Karena P-Value ({pval} < 5%)')\n",
    "    print ('DATA TIDAK BERDISTRIBUS NORMAL')\n",
    "else :\n",
    "    print (f'Gagal Tolak H0 Karena P-Value ({pval} > 5%)')\n",
    "    print ('DATA BERDISTRIBUS NORMAL')"
   ]
  },
  {
   "cell_type": "code",
   "execution_count": 96,
   "metadata": {},
   "outputs": [
    {
     "name": "stdout",
     "output_type": "stream",
     "text": [
      "Tolak H0 Karena P-Value (0.0 < 5%)\n",
      "Terdapat Perbedaan Nilai Median UnitPrice pada Setiap Negara Yang Ada\n"
     ]
    }
   ],
   "source": [
    "# Uji Perbandingan Nilai UnitPrice Antar Setiap negara (Kruskal Wallis)\n",
    "\n",
    "from scipy.stats import kruskal\n",
    "\n",
    "krus, pvalkrus = kruskal(\n",
    "    tabel1[tabel1['Country'] == 'USA']['UnitPrice'],\n",
    "    tabel1[tabel1['Country'] == 'Germany']['UnitPrice'],\n",
    "    tabel1[tabel1['Country'] == 'Australia']['UnitPrice'],\n",
    "    tabel1[tabel1['Country'] == 'UK']['UnitPrice'],\n",
    "    tabel1[tabel1['Country'] == 'Italy']['UnitPrice'],\n",
    "    tabel1[tabel1['Country'] == 'France']['UnitPrice'],\n",
    "    tabel1[tabel1['Country'] == 'Canada']['UnitPrice'],\n",
    "    tabel1[tabel1['Country'] == 'Japan']['UnitPrice'],\n",
    "    tabel1[tabel1['Country'] == 'Norway']['UnitPrice'],\n",
    "    tabel1[tabel1['Country'] == 'Singapore']['UnitPrice'],\n",
    "    tabel1[tabel1['Country'] == 'Finland']['UnitPrice'],\n",
    "    tabel1[tabel1['Country'] == 'Spain']['UnitPrice'],\n",
    "    tabel1[tabel1['Country'] == 'Sweden']['UnitPrice'],\n",
    "    tabel1[tabel1['Country'] == 'Brazil']['UnitPrice'],\n",
    "    tabel1[tabel1['Country'] == 'Denmark']['UnitPrice'],\n",
    "    tabel1[tabel1['Country'] == 'Netherlands']['UnitPrice']\n",
    ") \n",
    "\n",
    "if pvalkrus < 0.05 :\n",
    "    print (f'Tolak H0 Karena P-Value ({pval} < 5%)')\n",
    "    print ('Terdapat Perbedaan Nilai Median UnitPrice pada Setiap Negara Yang Ada')\n",
    "else :\n",
    "    print (f'Gagal Tolak H0 Karena P-Value ({pval} > 5%)')\n",
    "    print ('Tidak Terdapat Perbedaan Nilai Median UnitPrice pada Setiap Negara Yang Ada')"
   ]
  },
  {
   "cell_type": "markdown",
   "metadata": {},
   "source": [
    "## **Hubungan Quantity PerUnit, Unit Price, Units In Stock**"
   ]
  },
  {
   "cell_type": "code",
   "execution_count": null,
   "metadata": {},
   "outputs": [
    {
     "data": {
      "text/plain": [
       "<AxesSubplot:>"
      ]
     },
     "execution_count": 63,
     "metadata": {},
     "output_type": "execute_result"
    },
    {
     "data": {
      "image/png": "[encoded data removed]",
      "text/plain": [
       "<Figure size 720x720 with 2 Axes>"
      ]
     },
     "metadata": {},
     "output_type": "display_data"
    }
   ],
   "source": [
    "# Korelasi\n",
    "\n",
    "plt.figure(figsize=(10,10))\n",
    "sns.heatmap(tabel1[['QuantityPerUnit', 'UnitPrice', 'UnitsInStock']].corr('spearman'), annot=True)\n",
    "\t"
   ]
  }
 ],
 "metadata": {
  "interpreter": {
   "hash": "8a48770bb3c76ada6ec5eec9b53a504a3323976b81e1d1b6d1fc077cb2f95093"
  },
  "kernelspec": {
   "display_name": "Python 3.10.1 64-bit",
   "language": "python",
   "name": "python3"
  },
  "language_info": {
   "codemirror_mode": {
    "name": "ipython",
    "version": 3
   },
   "file_extension": ".py",
   "mimetype": "text/x-python",
   "name": "python",
   "nbconvert_exporter": "python",
   "pygments_lexer": "ipython3",
   "version": "3.10.1"
  },
  "orig_nbformat": 4
 },
 "nbformat": 4,
 "nbformat_minor": 2
}
